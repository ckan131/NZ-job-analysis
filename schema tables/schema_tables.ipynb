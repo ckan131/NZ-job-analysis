{
 "cells": [
  {
   "cell_type": "markdown",
   "id": "5267ef23",
   "metadata": {},
   "source": [
    "# Table for constructing a star schema\n"
   ]
  },
  {
   "cell_type": "code",
   "execution_count": 9,
   "id": "124610fd",
   "metadata": {},
   "outputs": [],
   "source": [
    "import pandas as pd\n",
    "import numpy as np\n",
    "\n",
    "pd.set_option('display.max_columns', None)\n",
    "pd.set_option('display.width', 1000)\n",
    "pd.set_option('display.max_colwidth', None)\n"
   ]
  },
  {
   "cell_type": "code",
   "execution_count": 10,
   "id": "7bbd7971",
   "metadata": {},
   "outputs": [
    {
     "name": "stdout",
     "output_type": "stream",
     "text": [
      "                                  title                       company    location       type                                industry  is_active salary_bucket  year  month  day  week  hour  minute  second accredited_label  Excel  Power BI  Tableau  Looker  Qlik  SPSS  Stata  Python  R  Java  JavaScript  TypeScript  C++  C  Ruby  PHP  Scala  SQL  NoSQL  MySQL  PostgreSQL  SQLite  MongoDB  Oracle  T-SQL  PL/SQL  AWS  Azure  Google Cloud  GCP  Firebase  Snowflake  Databricks  BigQuery  Git  GitHub  Docker  Kubernetes  Jenkins  VS Code  IntelliJ  Eclipse  Confluence  Jira  Selenium  Postman  Cypress  JUnit  TestNG  Pytest  Mocha  Chai  scikit-learn  TensorFlow  Keras  PyTorch  OpenCV  Pandas  NumPy  Airflow  Apache Spark  Kafka  Talend  Informatica  HTML  CSS  React  Angular  Vue.js  Bootstrap  jQuery  SASS  REST API  GraphQL  Salesforce  Microsoft Office  Outlook  SAP  Xero  QuickBooks  Dynamics 365\n",
      "0                 Deafblind Coordinator           Blind Low Vision NZ    Auckland  Full time        Community Services & Development          0    Negotiable  2024      8   24    34    20      55      36   Not Accredited      0         0        0       0     0     0      0       0  0     0           0           0    0  0     0    0      0    0      0      0           0       0        0       0      0       0    0      0             0    0         0          0           0         0    0       0       0           0        0        0         0        0           0     0         0        0        0      0       0       0      0     0             0           0      0        0       0       0      0        0             0      0       0            0     0    0      0        0       0          0       0     0         0        0           1                 1        0    0     0           0             0\n",
      "1  Site supervisor for structural steel  Grayson Engineering 2015 Ltd    Auckland  Full time                            Construction          0    Negotiable  2024      8   24    34    20      56      50   Not Accredited      0         0        0       0     0     0      0       0  0     0           0           0    0  0     0    0      0    0      0      0           0       0        0       0      0       0    0      0             0    0         0          0           0         0    0       0       0           0        0        0         0        0           0     0         0        0        0      0       0       0      0     0             0           0      0        0       0       0      0        0             0      0       0            0     0    0      0        0       0          0       0     0         0        0           0                 0        0    0     0           0             0\n",
      "2      Project manager structural steel  Grayson Engineering 2015 Ltd    Auckland  Full time                            Construction          0    Negotiable  2024      8   24    34    20      57      25   Not Accredited      0         0        0       0     0     0      0       0  0     0           0           0    0  0     0    0      0    0      0      0           0       0        0       0      0       0    0      0             0    0         0          0           0         0    0       0       0           0        0        0         0        0           0     0         0        0        0      0       0       0      0     0             0           0      0        0       0       0      0        0             0      0       0            0     0    0      0        0       0          0       0     0         0        0           0                 0        1    0     0           0             0\n",
      "3          Medical Device Kit Assembler                       Stryker    Auckland  Full time                    Healthcare & Medical          0         Other  2024      8   24    34    21       4       9   Not Accredited      0         0        0       0     0     0      0       0  0     0           0           0    0  0     0    0      0    0      0      0           0       0        0       0      0       0    0      0             0    0         0          0           0         0    0       0       0           0        0        0         0        0           0     0         0        0        0      0       0       0      0     0             0           0      0        0       0       0      0        0             0      0       0            0     0    0      0        0       0          0       0     0         0        0           0                 0        0    0     0           0             0\n",
      "4                Holiday Park Assistant       Lakes Edge Holiday Park  Canterbury  Full time                   Hospitality & Tourism          0    Negotiable  2024      8   24    34    21       6      13   Not Accredited      0         0        0       0     0     0      0       0  0     0           0           0    0  0     0    0      0    0      0      0           0       0        0       0      0       0    0      0             0    0         0          0           0         0    0       0       0           0        0        0         0        0           0     0         0        0        0      0       0       0      0     0             0           0      0        0       0       0      0        0             0      0       0            0     0    0      0        0       0          0       0     0         0        0           0                 0        0    0     0           0             0\n",
      "5             Venue Manager - Bakehouse      Ayrburn Precinct Limited       Otago  Full time                   Hospitality & Tourism          0    Negotiable  2024      8   24    34    21       6      41       Accredited      0         0        0       0     0     0      0       0  0     0           0           0    0  0     0    0      0    0      0      0           0       0        0       0      0       0    0      0             0    0         0          0           0         0    0       0       0           0        0        0         0        0           0     0         0        0        0      0       0       0      0     0             0           0      0        0       0       0      0        0             0      0       0            0     0    0      0        0       0          0       0     0         0        0           0                 0        0    0     0           0             0\n",
      "6                 Senior Analyst Tester     FNZ Services (NZ) Limited    Auckland  Full time  Information & Communication Technology          0    Negotiable  2024      8   24    34    21       9      40   Not Accredited      0         0        0       0     0     0      0       0  0     0           0           0    0  0     0    0      0    1      0      0           0       0        0       0      0       0    0      0             0    0         0          0           0         0    0       0       0           0        0        0         0        0           0     0         0        0        0      0       0       0      0     0             0           0      0        0       0       0      0        0             0      0       0            0     0    0      0        0       0          0       0     0         0        0           0                 0        0    0     0           0             0\n",
      "7                        Analyst Tester     FNZ Services (NZ) Limited  Wellington  Full time  Information & Communication Technology          1    Negotiable  2024      8   24    34    21       9      41   Not Accredited      0         0        0       0     0     0      0       0  0     0           0           0    0  1     0    0      0    1      0      0           0       0        0       0      0       0    0      0             0    0         0          0           0         0    0       0       0           0        0        0         0        0           0     0         1        0        0      0       0       0      0     0             0           0      0        0       0       0      0        0             0      0       0            0     0    0      0        0       0          0       0     0         0        0           0                 0        0    0     0           0             0\n",
      "8                   Construction Lawyer         Forte Recruitment Ltd  Wellington  Full time                                   Legal          0      50k-100k  2024      8   24    34    21      10       2   Not Accredited      0         0        0       0     0     0      0       0  0     0           0           0    0  0     0    0      0    0      0      0           0       0        0       0      0       0    0      0             0    0         0          0           0         0    0       0       0           0        0        0         0        0           0     0         0        0        0      0       0       0      0     0             0           0      0        0       0       0      0        0             0      0       0            0     0    0      0        0       0          0       0     0         0        0           0                 0        0    0     0           0             0\n",
      "9               Legal Executive Estates         Nicholsons Solicitors    Taranaki  Full time                                   Legal          0    Negotiable  2024      8   24    34    21      10      16       Accredited      0         0        0       0     0     0      0       0  0     0           0           0    0  0     0    0      0    0      0      0           0       0        0       0      0       0    0      0             0    0         0          0           0         0    0       0       0           0        0        0         0        0           0     0         0        0        0      0       0       0      0     0             0           0      0        0       0       0      0        0             0      0       0            0     0    0      0        0       0          0       0     0         0        0           0                 0        0    0     0           0             0\n"
     ]
    }
   ],
   "source": [
    "df = pd.read_csv(\"../cleaned data/cleaned_df.csv\")\n",
    "print(df.head(10))"
   ]
  },
  {
   "cell_type": "markdown",
   "id": "043d16d1",
   "metadata": {},
   "source": [
    "## Dimension Tables"
   ]
  },
  {
   "cell_type": "markdown",
   "id": "c18a7abb",
   "metadata": {},
   "source": [
    "### 1. Job_table"
   ]
  },
  {
   "cell_type": "code",
   "execution_count": null,
   "id": "a7686a81",
   "metadata": {},
   "outputs": [],
   "source": [
    "# 提取从'excel'列到最后一列，作为job_table\n",
    "start_col = 'excel'\n",
    "if start_col in df.columns:\n",
    "    start_idx = df.columns.get_loc(start_col)\n",
    "    job_table = df.iloc[:, start_idx:]\n",
    "    print(job_table.head(10))\n",
    "else:\n",
    "    print(f\"未找到列: {start_col}\")"
   ]
  }
 ],
 "metadata": {
  "kernelspec": {
   "display_name": "job_env",
   "language": "python",
   "name": "python3"
  },
  "language_info": {
   "codemirror_mode": {
    "name": "ipython",
    "version": 3
   },
   "file_extension": ".py",
   "mimetype": "text/x-python",
   "name": "python",
   "nbconvert_exporter": "python",
   "pygments_lexer": "ipython3",
   "version": "3.10.18"
  }
 },
 "nbformat": 4,
 "nbformat_minor": 5
}
