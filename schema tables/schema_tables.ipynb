{
 "cells": [
  {
   "cell_type": "markdown",
   "id": "5267ef23",
   "metadata": {},
   "source": [
    "# Table for constructing a star schema\n"
   ]
  },
  {
   "cell_type": "code",
   "execution_count": 76,
   "id": "124610fd",
   "metadata": {},
   "outputs": [],
   "source": [
    "import pandas as pd\n",
    "import numpy as np\n",
    "\n",
    "pd.set_option('display.max_columns', None)\n",
    "pd.set_option('display.width', 1000)\n",
    "pd.set_option('display.max_colwidth', None)"
   ]
  },
  {
   "cell_type": "code",
   "execution_count": 77,
   "id": "7bbd7971",
   "metadata": {},
   "outputs": [
    {
     "name": "stdout",
     "output_type": "stream",
     "text": [
      "      id                                 title                       company       type                                industry           created_at  is_active sub_region      region salary_bucket accredited_label  Excel  Power BI  Tableau  Looker  Qlik  SPSS  Stata  Python  R  Java  JavaScript  TypeScript  C++  C  Ruby  PHP  Scala  SQL  NoSQL  MySQL  PostgreSQL  SQLite  MongoDB  Oracle  T-SQL  PL/SQL  AWS  Azure  Google Cloud  GCP  Firebase  Snowflake  Databricks  BigQuery  Git  GitHub  Docker  Kubernetes  Jenkins  VS Code  IntelliJ  Eclipse  Confluence  Jira  Selenium  Postman  Cypress  JUnit  TestNG  Pytest  Mocha  Chai  scikit-learn  TensorFlow  Keras  PyTorch  OpenCV  Pandas  NumPy  Airflow  Apache Spark  Kafka  Talend  Informatica  HTML  CSS  React  Angular  Vue.js  Bootstrap  jQuery  SASS  REST API  GraphQL  Salesforce  Microsoft Office  Outlook  SAP  Xero  QuickBooks  Dynamics 365\n",
      "0  21070                 Deafblind Coordinator           Blind Low Vision NZ  Full time        Community Services & Development  2024-08-24 20:55:36          0    Unknown    Auckland    Negotiable   Not Accredited      0         0        0       0     0     0      0       0  0     0           0           0    0  0     0    0      0    0      0      0           0       0        0       0      0       0    0      0             0    0         0          0           0         0    0       0       0           0        0        0         0        0           0     0         0        0        0      0       0       0      0     0             0           0      0        0       0       0      0        0             0      0       0            0     0    0      0        0       0          0       0     0         0        0           1                 1        0    0     0           0             0\n",
      "1  21840  Site supervisor for structural steel  Grayson Engineering 2015 Ltd  Full time                            Construction  2024-08-24 20:56:50          0    Unknown    Auckland    Negotiable   Not Accredited      0         0        0       0     0     0      0       0  0     0           0           0    0  0     0    0      0    0      0      0           0       0        0       0      0       0    0      0             0    0         0          0           0         0    0       0       0           0        0        0         0        0           0     0         0        0        0      0       0       0      0     0             0           0      0        0       0       0      0        0             0      0       0            0     0    0      0        0       0          0       0     0         0        0           0                 0        0    0     0           0             0\n",
      "2  22213      Project manager structural steel  Grayson Engineering 2015 Ltd  Full time                            Construction  2024-08-24 20:57:25          0    Unknown    Auckland    Negotiable   Not Accredited      0         0        0       0     0     0      0       0  0     0           0           0    0  0     0    0      0    0      0      0           0       0        0       0      0       0    0      0             0    0         0          0           0         0    0       0       0           0        0        0         0        0           0     0         0        0        0      0       0       0      0     0             0           0      0        0       0       0      0        0             0      0       0            0     0    0      0        0       0          0       0     0         0        0           0                 0        1    0     0           0             0\n",
      "3  26397          Medical Device Kit Assembler                       Stryker  Full time                    Healthcare & Medical  2024-08-24 21:04:09          0    Unknown    Auckland         Other   Not Accredited      0         0        0       0     0     0      0       0  0     0           0           0    0  0     0    0      0    0      0      0           0       0        0       0      0       0    0      0             0    0         0          0           0         0    0       0       0           0        0        0         0        0           0     0         0        0        0      0       0       0      0     0             0           0      0        0       0       0      0        0             0      0       0            0     0    0      0        0       0          0       0     0         0        0           0                 0        0    0     0           0             0\n",
      "4  27671                Holiday Park Assistant       Lakes Edge Holiday Park  Full time                   Hospitality & Tourism  2024-08-24 21:06:13          0    Unknown  Canterbury    Negotiable   Not Accredited      0         0        0       0     0     0      0       0  0     0           0           0    0  0     0    0      0    0      0      0           0       0        0       0      0       0    0      0             0    0         0          0           0         0    0       0       0           0        0        0         0        0           0     0         0        0        0      0       0       0      0     0             0           0      0        0       0       0      0        0             0      0       0            0     0    0      0        0       0          0       0     0         0        0           0                 0        0    0     0           0             0\n",
      "5  27946             Venue Manager - Bakehouse      Ayrburn Precinct Limited  Full time                   Hospitality & Tourism  2024-08-24 21:06:41          0    Unknown       Otago    Negotiable       Accredited      0         0        0       0     0     0      0       0  0     0           0           0    0  0     0    0      0    0      0      0           0       0        0       0      0       0    0      0             0    0         0          0           0         0    0       0       0           0        0        0         0        0           0     0         0        0        0      0       0       0      0     0             0           0      0        0       0       0      0        0             0      0       0            0     0    0      0        0       0          0       0     0         0        0           0                 0        0    0     0           0             0\n",
      "6  29815                 Senior Analyst Tester     FNZ Services (NZ) Limited  Full time  Information & Communication Technology  2024-08-24 21:09:40          0    Unknown    Auckland    Negotiable   Not Accredited      0         0        0       0     0     0      0       0  0     0           0           0    0  0     0    0      0    1      0      0           0       0        0       0      0       0    0      0             0    0         0          0           0         0    0       0       0           0        0        0         0        0           0     0         0        0        0      0       0       0      0     0             0           0      0        0       0       0      0        0             0      0       0            0     0    0      0        0       0          0       0     0         0        0           0                 0        0    0     0           0             0\n",
      "7  29830                        Analyst Tester     FNZ Services (NZ) Limited  Full time  Information & Communication Technology  2024-08-24 21:09:41          1    Unknown  Wellington    Negotiable   Not Accredited      0         0        0       0     0     0      0       0  0     0           0           0    0  1     0    0      0    1      0      0           0       0        0       0      0       0    0      0             0    0         0          0           0         0    0       0       0           0        0        0         0        0           0     0         1        0        0      0       0       0      0     0             0           0      0        0       0       0      0        0             0      0       0            0     0    0      0        0       0          0       0     0         0        0           0                 0        0    0     0           0             0\n",
      "8  30043                   Construction Lawyer         Forte Recruitment Ltd  Full time                                   Legal  2024-08-24 21:10:02          0    Unknown  Wellington      50k-100k   Not Accredited      0         0        0       0     0     0      0       0  0     0           0           0    0  0     0    0      0    0      0      0           0       0        0       0      0       0    0      0             0    0         0          0           0         0    0       0       0           0        0        0         0        0           0     0         0        0        0      0       0       0      0     0             0           0      0        0       0       0      0        0             0      0       0            0     0    0      0        0       0          0       0     0         0        0           0                 0        0    0     0           0             0\n",
      "9  30198               Legal Executive Estates         Nicholsons Solicitors  Full time                                   Legal  2024-08-24 21:10:16          0    Unknown    Taranaki    Negotiable       Accredited      0         0        0       0     0     0      0       0  0     0           0           0    0  0     0    0      0    0      0      0           0       0        0       0      0       0    0      0             0    0         0          0           0         0    0       0       0           0        0        0         0        0           0     0         0        0        0      0       0       0      0     0             0           0      0        0       0       0      0        0             0      0       0            0     0    0      0        0       0          0       0     0         0        0           0                 0        0    0     0           0             0\n"
     ]
    }
   ],
   "source": [
    "df = pd.read_csv(\"../cleaned data/cleaned_df.csv\")\n",
    "print(df.head(10))"
   ]
  },
  {
   "cell_type": "markdown",
   "id": "043d16d1",
   "metadata": {},
   "source": [
    "## Dimension Tables"
   ]
  },
  {
   "cell_type": "markdown",
   "id": "c18a7abb",
   "metadata": {},
   "source": [
    "### 1. dim_skills"
   ]
  },
  {
   "cell_type": "code",
   "execution_count": 78,
   "id": "a7686a81",
   "metadata": {},
   "outputs": [
    {
     "name": "stdout",
     "output_type": "stream",
     "text": [
      "   Excel  Power BI  Tableau  Looker  Qlik  SPSS  Stata  Python  R  Java  JavaScript  TypeScript  C++  C  Ruby  PHP  Scala  SQL  NoSQL  MySQL  PostgreSQL  SQLite  MongoDB  Oracle  T-SQL  PL/SQL  AWS  Azure  Google Cloud  GCP  Firebase  Snowflake  Databricks  BigQuery  Git  GitHub  Docker  Kubernetes  Jenkins  VS Code  IntelliJ  Eclipse  Confluence  Jira  Selenium  Postman  Cypress  JUnit  TestNG  Pytest  Mocha  Chai  scikit-learn  TensorFlow  Keras  PyTorch  OpenCV  Pandas  NumPy  Airflow  Apache Spark  Kafka  Talend  Informatica  HTML  CSS  React  Angular  Vue.js  Bootstrap  jQuery  SASS  REST API  GraphQL  Salesforce  Microsoft Office  Outlook  SAP  Xero  QuickBooks  Dynamics 365\n",
      "0      0         0        0       0     0     0      0       0  0     0           0           0    0  0     0    0      0    0      0      0           0       0        0       0      0       0    0      0             0    0         0          0           0         0    0       0       0           0        0        0         0        0           0     0         0        0        0      0       0       0      0     0             0           0      0        0       0       0      0        0             0      0       0            0     0    0      0        0       0          0       0     0         0        0           1                 1        0    0     0           0             0\n",
      "1      0         0        0       0     0     0      0       0  0     0           0           0    0  0     0    0      0    0      0      0           0       0        0       0      0       0    0      0             0    0         0          0           0         0    0       0       0           0        0        0         0        0           0     0         0        0        0      0       0       0      0     0             0           0      0        0       0       0      0        0             0      0       0            0     0    0      0        0       0          0       0     0         0        0           0                 0        0    0     0           0             0\n",
      "2      0         0        0       0     0     0      0       0  0     0           0           0    0  0     0    0      0    0      0      0           0       0        0       0      0       0    0      0             0    0         0          0           0         0    0       0       0           0        0        0         0        0           0     0         0        0        0      0       0       0      0     0             0           0      0        0       0       0      0        0             0      0       0            0     0    0      0        0       0          0       0     0         0        0           0                 0        1    0     0           0             0\n",
      "3      0         0        0       0     0     0      0       0  0     0           0           0    0  0     0    0      0    0      0      0           0       0        0       0      0       0    0      0             0    0         0          0           0         0    0       0       0           0        0        0         0        0           0     0         0        0        0      0       0       0      0     0             0           0      0        0       0       0      0        0             0      0       0            0     0    0      0        0       0          0       0     0         0        0           0                 0        0    0     0           0             0\n",
      "4      0         0        0       0     0     0      0       0  0     0           0           0    0  0     0    0      0    0      0      0           0       0        0       0      0       0    0      0             0    0         0          0           0         0    0       0       0           0        0        0         0        0           0     0         0        0        0      0       0       0      0     0             0           0      0        0       0       0      0        0             0      0       0            0     0    0      0        0       0          0       0     0         0        0           0                 0        0    0     0           0             0\n",
      "5      0         0        0       0     0     0      0       0  0     0           0           0    0  0     0    0      0    0      0      0           0       0        0       0      0       0    0      0             0    0         0          0           0         0    0       0       0           0        0        0         0        0           0     0         0        0        0      0       0       0      0     0             0           0      0        0       0       0      0        0             0      0       0            0     0    0      0        0       0          0       0     0         0        0           0                 0        0    0     0           0             0\n",
      "6      0         0        0       0     0     0      0       0  0     0           0           0    0  0     0    0      0    1      0      0           0       0        0       0      0       0    0      0             0    0         0          0           0         0    0       0       0           0        0        0         0        0           0     0         0        0        0      0       0       0      0     0             0           0      0        0       0       0      0        0             0      0       0            0     0    0      0        0       0          0       0     0         0        0           0                 0        0    0     0           0             0\n",
      "7      0         0        0       0     0     0      0       0  0     0           0           0    0  1     0    0      0    1      0      0           0       0        0       0      0       0    0      0             0    0         0          0           0         0    0       0       0           0        0        0         0        0           0     0         1        0        0      0       0       0      0     0             0           0      0        0       0       0      0        0             0      0       0            0     0    0      0        0       0          0       0     0         0        0           0                 0        0    0     0           0             0\n",
      "8      0         0        0       0     0     0      0       0  0     0           0           0    0  0     0    0      0    0      0      0           0       0        0       0      0       0    0      0             0    0         0          0           0         0    0       0       0           0        0        0         0        0           0     0         0        0        0      0       0       0      0     0             0           0      0        0       0       0      0        0             0      0       0            0     0    0      0        0       0          0       0     0         0        0           0                 0        0    0     0           0             0\n",
      "9      0         0        0       0     0     0      0       0  0     0           0           0    0  0     0    0      0    0      0      0           0       0        0       0      0       0    0      0             0    0         0          0           0         0    0       0       0           0        0        0         0        0           0     0         0        0        0      0       0       0      0     0             0           0      0        0       0       0      0        0             0      0       0            0     0    0      0        0       0          0       0     0         0        0           0                 0        0    0     0           0             0\n"
     ]
    }
   ],
   "source": [
    "# 提取从'excel'列到最后一列，作为job_table\n",
    "start_col = 'Excel'\n",
    "if start_col in df.columns:\n",
    "    start_idx = df.columns.get_loc(start_col)\n",
    "    job_table = df.iloc[:, start_idx:]\n",
    "    print(job_table.head(10))\n"
   ]
  },
  {
   "cell_type": "code",
   "execution_count": 79,
   "id": "0073b156",
   "metadata": {},
   "outputs": [
    {
     "name": "stdout",
     "output_type": "stream",
     "text": [
      "    skill_id  Excel  Power BI  Tableau  Looker  Qlik  SPSS  Stata  Python  R  Java  JavaScript  TypeScript  C++  C  Ruby  PHP  Scala  SQL  NoSQL  MySQL  PostgreSQL  SQLite  MongoDB  Oracle  T-SQL  PL/SQL  AWS  Azure  Google Cloud  GCP  Firebase  Snowflake  Databricks  BigQuery  Git  GitHub  Docker  Kubernetes  Jenkins  VS Code  IntelliJ  Eclipse  Confluence  Jira  Selenium  Postman  Cypress  JUnit  TestNG  Pytest  Mocha  Chai  scikit-learn  TensorFlow  Keras  PyTorch  OpenCV  Pandas  NumPy  Airflow  Apache Spark  Kafka  Talend  Informatica  HTML  CSS  React  Angular  Vue.js  Bootstrap  jQuery  SASS  REST API  GraphQL  Salesforce  Microsoft Office  Outlook  SAP  Xero  QuickBooks  Dynamics 365\n",
      "0          1      0         0        0       0     0     0      0       0  0     0           0           0    0  0     0    0      0    0      0      0           0       0        0       0      0       0    0      0             0    0         0          0           0         0    0       0       0           0        0        0         0        0           0     0         0        0        0      0       0       0      0     0             0           0      0        0       0       0      0        0             0      0       0            0     0    0      0        0       0          0       0     0         0        0           1                 1        0    0     0           0             0\n",
      "1          2      0         0        0       0     0     0      0       0  0     0           0           0    0  0     0    0      0    0      0      0           0       0        0       0      0       0    0      0             0    0         0          0           0         0    0       0       0           0        0        0         0        0           0     0         0        0        0      0       0       0      0     0             0           0      0        0       0       0      0        0             0      0       0            0     0    0      0        0       0          0       0     0         0        0           0                 0        0    0     0           0             0\n",
      "2          3      0         0        0       0     0     0      0       0  0     0           0           0    0  0     0    0      0    0      0      0           0       0        0       0      0       0    0      0             0    0         0          0           0         0    0       0       0           0        0        0         0        0           0     0         0        0        0      0       0       0      0     0             0           0      0        0       0       0      0        0             0      0       0            0     0    0      0        0       0          0       0     0         0        0           0                 0        1    0     0           0             0\n",
      "6          4      0         0        0       0     0     0      0       0  0     0           0           0    0  0     0    0      0    1      0      0           0       0        0       0      0       0    0      0             0    0         0          0           0         0    0       0       0           0        0        0         0        0           0     0         0        0        0      0       0       0      0     0             0           0      0        0       0       0      0        0             0      0       0            0     0    0      0        0       0          0       0     0         0        0           0                 0        0    0     0           0             0\n",
      "7          5      0         0        0       0     0     0      0       0  0     0           0           0    0  1     0    0      0    1      0      0           0       0        0       0      0       0    0      0             0    0         0          0           0         0    0       0       0           0        0        0         0        0           0     0         1        0        0      0       0       0      0     0             0           0      0        0       0       0      0        0             0      0       0            0     0    0      0        0       0          0       0     0         0        0           0                 0        0    0     0           0             0\n",
      "15         6      0         0        0       0     0     0      0       0  0     0           0           0    0  0     0    0      0    0      0      0           0       0        0       0      0       0    0      0             0    0         0          0           0         0    0       0       0           0        0        0         0        0           0     0         0        0        0      0       0       0      0     0             0           0      0        0       0       0      0        0             0      0       0            0     0    0      0        0       0          0       0     0         0        0           0                 1        0    0     0           0             0\n",
      "16         7      1         0        0       0     0     0      0       0  0     0           0           0    0  0     0    0      0    0      0      0           0       0        0       0      0       0    0      0             0    0         0          0           0         0    0       0       0           0        0        0         0        0           0     0         0        0        0      0       0       0      0     0             0           0      0        0       0       0      0        0             0      0       0            0     0    0      0        0       0          0       0     0         0        0           0                 0        0    0     0           0             0\n",
      "17         8      0         0        0       0     0     0      0       1  0     0           0           0    0  0     1    0      0    1      0      1           1       0        0       0      0       0    0      0             0    0         0          0           0         0    1       0       1           1        1        0         0        0           0     0         0        0        0      0       0       0      0     0             0           0      0        0       0       0      0        0             0      1       0            0     0    0      0        0       0          0       0     0         0        0           0                 0        0    0     0           0             0\n",
      "18         9      0         0        0       0     0     0      0       0  0     0           0           0    0  1     0    0      0    0      0      0           0       0        0       0      0       0    0      0             0    0         0          0           0         0    0       0       0           0        0        0         0        0           0     0         0        0        0      0       0       0      0     0             0           0      0        0       0       0      0        0             0      0       0            0     0    0      0        0       0          0       0     0         0        0           0                 0        0    0     0           0             0\n",
      "27        10      0         0        0       0     0     0      0       0  0     0           0           0    0  0     0    0      0    0      0      0           0       0        0       0      0       0    0      1             0    0         0          0           0         0    0       0       0           0        0        0         0        0           0     0         0        0        0      0       0       0      0     0             0           0      0        0       0       0      0        0             0      0       0            0     0    0      0        0       0          0       0     0         0        0           0                 0        0    0     0           0             0\n"
     ]
    }
   ],
   "source": [
    "# 为每种唯一技能组合创建skill_id，并只保留每个id一行（作为dimension table）\n",
    "if 'Excel' in df.columns:\n",
    "    # 提取所有技能列（从Excel到最后一列）\n",
    "    skill_cols = df.columns[df.columns.get_loc('Excel'):]\n",
    "    # 将技能组合转为字符串用于唯一性\n",
    "    job_table['skill_combo'] = job_table[skill_cols].astype(str).agg('-'.join, axis=1)\n",
    "    # 为每种唯一组合分配skill_id\n",
    "    combo2id = {combo: idx+1 for idx, combo in enumerate(job_table['skill_combo'].unique())}\n",
    "    job_table['skill_id'] = job_table['skill_combo'].map(combo2id)\n",
    "    # 只保留每个skill_id一种组合（去重）\n",
    "    dim_skills = job_table.drop_duplicates(subset=['skill_id'])[['skill_id'] + list(skill_cols)]\n",
    "    print(dim_skills.head(10))\n",
    "else:\n",
    "    print('未找到Excel列，无法生成技能组合id')"
   ]
  },
  {
   "cell_type": "code",
   "execution_count": 80,
   "id": "da69b418",
   "metadata": {},
   "outputs": [],
   "source": [
    "dim_skills.to_csv('dim_skills.csv', index=False)"
   ]
  },
  {
   "cell_type": "markdown",
   "id": "3bd22926",
   "metadata": {},
   "source": [
    "### 2. dim_locations"
   ]
  },
  {
   "cell_type": "code",
   "execution_count": 81,
   "id": "a2b80ad3",
   "metadata": {},
   "outputs": [
    {
     "name": "stdout",
     "output_type": "stream",
     "text": [
      "    location_id    sub_region         region\n",
      "0             1       Unknown       Auckland\n",
      "1             2       Unknown     Canterbury\n",
      "2             3       Unknown          Otago\n",
      "3             4       Unknown     Wellington\n",
      "4             5       Unknown       Taranaki\n",
      "5             6       Unknown       Manawatu\n",
      "6             7       Unknown        Waikato\n",
      "7             8       Unknown      Northland\n",
      "8             9       Unknown  Bay of Plenty\n",
      "9            10       Unknown      Southland\n",
      "10           11       Unknown       Gisborne\n",
      "11           12       Unknown     Hawkes Bay\n",
      "12           13       Unknown         Tasman\n",
      "13           14       Unknown     West Coast\n",
      "14           15       Unknown    Marlborough\n",
      "15           16       Unknown    New Zealand\n",
      "16           17        Hornby     Canterbury\n",
      "17           18      Onehunga       Auckland\n",
      "18           19       Porirua     Wellington\n",
      "19           20  Auckland CBD       Auckland\n"
     ]
    }
   ],
   "source": [
    "dim_locations = df[['sub_region', 'region']].drop_duplicates().reset_index(drop=True)\n",
    "dim_locations['location_id'] = np.arange(1, len(dim_locations) + 1)\n",
    "cols = ['location_id'] + [col for col in dim_locations.columns if col != 'location_id']\n",
    "dim_locations = dim_locations[cols]\n",
    "print(dim_locations.head(20))"
   ]
  },
  {
   "cell_type": "code",
   "execution_count": 82,
   "id": "d8f95c5e",
   "metadata": {},
   "outputs": [],
   "source": [
    "dim_locations.to_csv('dim_locations.csv', index=False)"
   ]
  },
  {
   "cell_type": "markdown",
   "id": "9dbbeee1",
   "metadata": {},
   "source": [
    "### 3. dim_titles"
   ]
  },
  {
   "cell_type": "code",
   "execution_count": 83,
   "id": "bfb3cc89",
   "metadata": {},
   "outputs": [
    {
     "name": "stdout",
     "output_type": "stream",
     "text": [
      "   title_id                                 title\n",
      "0         1                 Deafblind Coordinator\n",
      "1         2  Site supervisor for structural steel\n",
      "2         3      Project manager structural steel\n",
      "3         4          Medical Device Kit Assembler\n",
      "4         5                Holiday Park Assistant\n",
      "5         6             Venue Manager - Bakehouse\n",
      "6         7                 Senior Analyst Tester\n",
      "7         8                        Analyst Tester\n",
      "8         9                   Construction Lawyer\n",
      "9        10               Legal Executive Estates\n"
     ]
    }
   ],
   "source": [
    "dim_titles = df[['title']].drop_duplicates().reset_index(drop=True)\n",
    "dim_titles['title_id'] = np.arange(1, len(dim_titles) + 1)\n",
    "cols = ['title_id'] + [col for col in dim_titles.columns if col != 'title_id']\n",
    "dim_titles = dim_titles[cols]\n",
    "print(dim_titles.head(10))"
   ]
  },
  {
   "cell_type": "code",
   "execution_count": 84,
   "id": "cec90d01",
   "metadata": {},
   "outputs": [],
   "source": [
    "dim_titles.to_csv('dim_titles.csv', index=False)"
   ]
  },
  {
   "cell_type": "markdown",
   "id": "eaf061d5",
   "metadata": {},
   "source": [
    "### 4. dim_companies"
   ]
  },
  {
   "cell_type": "code",
   "execution_count": 85,
   "id": "45bab1d1",
   "metadata": {},
   "outputs": [
    {
     "name": "stdout",
     "output_type": "stream",
     "text": [
      "   company_id                       company\n",
      "0           1           Blind Low Vision NZ\n",
      "1           2  Grayson Engineering 2015 Ltd\n",
      "2           3                       Stryker\n",
      "3           4       Lakes Edge Holiday Park\n",
      "4           5      Ayrburn Precinct Limited\n",
      "5           6     FNZ Services (NZ) Limited\n",
      "6           7         Forte Recruitment Ltd\n",
      "7           8         Nicholsons Solicitors\n",
      "8           9            Star Personnel Ltd\n",
      "9          10         McAlpine Hussmann Ltd\n"
     ]
    }
   ],
   "source": [
    "dim_companies = df[['company']].drop_duplicates().reset_index(drop=True)\n",
    "dim_companies['company_id'] = np.arange(1, len(dim_companies) + 1)\n",
    "cols = ['company_id'] + [col for col in dim_companies.columns if col != 'company_id']\n",
    "dim_companies = dim_companies[cols]\n",
    "print(dim_companies.head(10))"
   ]
  },
  {
   "cell_type": "code",
   "execution_count": 86,
   "id": "b46c5dc5",
   "metadata": {},
   "outputs": [],
   "source": [
    "dim_companies.to_csv('dim_companies.csv', index=False)"
   ]
  },
  {
   "cell_type": "markdown",
   "id": "58cbca05",
   "metadata": {},
   "source": [
    "### 5. dim_job_type"
   ]
  },
  {
   "cell_type": "code",
   "execution_count": 87,
   "id": "b63f912d",
   "metadata": {},
   "outputs": [
    {
     "name": "stdout",
     "output_type": "stream",
     "text": [
      "   job_type_id             type\n",
      "0            1        Full time\n",
      "1            2        Part time\n",
      "2            3    Contract/Temp\n",
      "3            4  Casual/Vacation\n"
     ]
    }
   ],
   "source": [
    "dim_job_type = df[['type']].drop_duplicates().reset_index(drop=True)\n",
    "dim_job_type['job_type_id'] = np.arange(1, len(dim_job_type) + 1)\n",
    "cols = ['job_type_id'] + [col for col in dim_job_type.columns if col != 'job_type_id']\n",
    "dim_job_type = dim_job_type[cols]\n",
    "print(dim_job_type.head(10))"
   ]
  },
  {
   "cell_type": "code",
   "execution_count": 88,
   "id": "7ab6bc59",
   "metadata": {},
   "outputs": [],
   "source": [
    "dim_job_type.to_csv('dim_job_type.csv', index=False)"
   ]
  },
  {
   "cell_type": "markdown",
   "id": "dc928080",
   "metadata": {},
   "source": [
    "### 6. dim_industries"
   ]
  },
  {
   "cell_type": "code",
   "execution_count": 89,
   "id": "ddd2280c",
   "metadata": {},
   "outputs": [
    {
     "name": "stdout",
     "output_type": "stream",
     "text": [
      "   industry_id                                industry\n",
      "0            1        Community Services & Development\n",
      "1            2                            Construction\n",
      "2            3                    Healthcare & Medical\n",
      "3            4                   Hospitality & Tourism\n",
      "4            5  Information & Communication Technology\n",
      "5            6                                   Legal\n",
      "6            7    Manufacturing, Transport & Logistics\n",
      "7            8                       Trades & Services\n",
      "8            9           Human Resources & Recruitment\n",
      "9           10            Banking & Financial Services\n"
     ]
    }
   ],
   "source": [
    "dim_industries = df[['industry']].drop_duplicates().reset_index(drop=True)\n",
    "dim_industries['industry_id'] = np.arange(1, len(dim_industries) + 1)\n",
    "cols = ['industry_id'] + [col for col in dim_industries.columns if col != 'industry_id']\n",
    "dim_industries = dim_industries[cols]\n",
    "print(dim_industries.head(10))"
   ]
  },
  {
   "cell_type": "code",
   "execution_count": 90,
   "id": "39689492",
   "metadata": {},
   "outputs": [],
   "source": [
    "dim_industries.to_csv('dim_industries.csv', index=False)"
   ]
  },
  {
   "cell_type": "markdown",
   "id": "55514ec0",
   "metadata": {},
   "source": [
    "### 7. dim_datetime"
   ]
  },
  {
   "cell_type": "code",
   "execution_count": 91,
   "id": "c9a968ce",
   "metadata": {},
   "outputs": [
    {
     "name": "stdout",
     "output_type": "stream",
     "text": [
      "   datetime_id       date  year  quarter  month  week  day  weekday\n",
      "0     20240824 2024-08-24  2024        3      8    34   24        6\n",
      "1     20240825 2024-08-25  2024        3      8    34   25        7\n",
      "2     20240826 2024-08-26  2024        3      8    35   26        1\n",
      "3     20240827 2024-08-27  2024        3      8    35   27        2\n",
      "4     20240828 2024-08-28  2024        3      8    35   28        3\n",
      "5     20240829 2024-08-29  2024        3      8    35   29        4\n",
      "6     20240830 2024-08-30  2024        3      8    35   30        5\n",
      "7     20240831 2024-08-31  2024        3      8    35   31        6\n",
      "8     20240901 2024-09-01  2024        3      9    35    1        7\n",
      "9     20240902 2024-09-02  2024        3      9    36    2        1\n"
     ]
    }
   ],
   "source": [
    "df['created_at'] = pd.to_datetime(df['created_at'], errors='coerce')\n",
    "\n",
    "# 生成日期范围\n",
    "start_date = df['created_at'].min().normalize()\n",
    "end_date = pd.Timestamp.today().normalize()\n",
    "date_range = pd.date_range(start=start_date, end=end_date, freq='D')\n",
    "\n",
    "# 构建维表\n",
    "dim_datetime = pd.DataFrame({'date': date_range})\n",
    "dim_datetime['year'] = dim_datetime['date'].dt.year\n",
    "dim_datetime['month'] = dim_datetime['date'].dt.month\n",
    "dim_datetime['day'] = dim_datetime['date'].dt.day\n",
    "dim_datetime['quarter'] = dim_datetime['date'].dt.quarter\n",
    "dim_datetime['week'] = dim_datetime['date'].dt.isocalendar().week\n",
    "dim_datetime['weekday'] = dim_datetime['date'].dt.weekday + 1  # 1=Monday\n",
    "dim_datetime['datetime_id'] = dim_datetime['date'].dt.strftime('%Y%m%d').astype(int)\n",
    "\n",
    "# 调整列顺序\n",
    "cols = ['datetime_id', 'date', 'year', 'quarter', 'month', 'week', 'day', 'weekday']\n",
    "dim_datetime = dim_datetime[cols]\n",
    "\n",
    "print(dim_datetime.head(10))"
   ]
  },
  {
   "cell_type": "code",
   "execution_count": 92,
   "id": "f4f9de00",
   "metadata": {},
   "outputs": [],
   "source": [
    "dim_datetime.to_csv('dim_datetime.csv', index=False)"
   ]
  },
  {
   "cell_type": "markdown",
   "id": "2289022b",
   "metadata": {},
   "source": [
    "### 8. dim_salary"
   ]
  },
  {
   "cell_type": "code",
   "execution_count": 93,
   "id": "201c9c3c",
   "metadata": {},
   "outputs": [
    {
     "name": "stdout",
     "output_type": "stream",
     "text": [
      "   salary_id salary_bucket\n",
      "0          1    Negotiable\n",
      "1          2         Other\n",
      "2          3      50k-100k\n",
      "3          4         100k+\n",
      "4          5         0-50k\n",
      "5          6   Competitive\n"
     ]
    }
   ],
   "source": [
    "dim_salary = df[['salary_bucket']].drop_duplicates().reset_index(drop=True)\n",
    "dim_salary['salary_id'] = np.arange(1, len(dim_salary) + 1)\n",
    "cols = ['salary_id'] + [col for col in dim_salary.columns if col != 'salary_id']\n",
    "dim_salary = dim_salary[cols]\n",
    "print(dim_salary.head(10))"
   ]
  },
  {
   "cell_type": "code",
   "execution_count": 94,
   "id": "fe28799e",
   "metadata": {},
   "outputs": [],
   "source": [
    "dim_salary.to_csv('dim_salary.csv', index=False)"
   ]
  },
  {
   "cell_type": "markdown",
   "id": "0518fcfe",
   "metadata": {},
   "source": [
    "### 9. dim_accredited"
   ]
  },
  {
   "cell_type": "code",
   "execution_count": 95,
   "id": "90fcd222",
   "metadata": {},
   "outputs": [
    {
     "name": "stdout",
     "output_type": "stream",
     "text": [
      "   accredited_id accredited_label\n",
      "0              1   Not Accredited\n",
      "1              2       Accredited\n",
      "2              3          Unknown\n"
     ]
    }
   ],
   "source": [
    "dim_accredited = df[['accredited_label']].drop_duplicates().reset_index(drop=True)\n",
    "dim_accredited['accredited_id'] = np.arange(1, len(dim_accredited) + 1)\n",
    "cols = ['accredited_id'] + [col for col in dim_accredited.columns if col != 'accredited_id']\n",
    "dim_accredited = dim_accredited[cols]\n",
    "print(dim_accredited.head(10))"
   ]
  },
  {
   "cell_type": "code",
   "execution_count": 96,
   "id": "94bed301",
   "metadata": {},
   "outputs": [],
   "source": [
    "dim_accredited.to_csv('dim_accredited.csv', index=False)"
   ]
  },
  {
   "cell_type": "markdown",
   "id": "89b6dfc9",
   "metadata": {},
   "source": [
    "## Fact table"
   ]
  },
  {
   "cell_type": "markdown",
   "id": "7c8d2ae1",
   "metadata": {},
   "source": [
    "### fact_jobs"
   ]
  },
  {
   "cell_type": "code",
   "execution_count": 101,
   "id": "bcfd25b1",
   "metadata": {},
   "outputs": [
    {
     "name": "stdout",
     "output_type": "stream",
     "text": [
      "       id  title_id  company_id  location_id  job_type_id  industry_id  salary_id  accredited_id  datetime_id  skill_id  is_active\n",
      "0   21070         1           1            1            1            1          1              1     20240824         1          0\n",
      "1   21840         2           2            1            1            2          1              1     20240824         2          0\n",
      "2   22213         3           2            1            1            2          1              1     20240824         3          0\n",
      "3   26397         4           3            1            1            3          2              1     20240824         2          0\n",
      "4   27671         5           4            2            1            4          1              1     20240824         2          0\n",
      "5   27946         6           5            3            1            4          1              2     20240824         2          0\n",
      "6   29815         7           6            1            1            5          1              1     20240824         4          0\n",
      "7   29830         8           6            4            1            5          1              1     20240824         5          1\n",
      "8   30043         9           7            4            1            6          3              1     20240824         2          0\n",
      "9   30198        10           8            5            1            6          1              2     20240824         2          0\n",
      "10  30687        11           9            1            1            7          3              1     20240824         2          0\n",
      "11  35025        12          10            4            1            8          1              2     20240824         2          0\n",
      "12  36232        13          11            6            1            8          2              1     20240824         2          0\n",
      "13  36525        14          12            7            1            8          1              1     20240824         2          0\n",
      "14  59316        15          13            2            1            2          4              1     20240828         6          0\n",
      "15  63827        16          14            1            1            3          1              1     20240828         7          0\n",
      "16  65498        17          15            1            2            9          1              1     20240828         8          0\n",
      "17  65839        18          16            4            1            5          1              1     20240828         9          0\n",
      "18  65920        19           6            1            1            5          1              1     20240828        10          0\n",
      "19  65935        20           6            1            1            5          1              1     20240828        10          0\n"
     ]
    }
   ],
   "source": [
    "df['created_at'] = pd.to_datetime(df['created_at'], errors='coerce')\n",
    "df['datetime_id'] = df['created_at'].dt.strftime('%Y%m%d').astype(int)\n",
    "\n",
    "skill_cols = df.columns[df.columns.get_loc('Excel'):]  # 假设技能列从'Excel'开始\n",
    "df['skill_combo'] = df[skill_cols].astype(str).agg('-'.join, axis=1)\n",
    "\n",
    "# 2. 建立技能组合到skill_id的映射（与dim_skills一致）\n",
    "combo2id = {combo: idx+1 for idx, combo in enumerate(df['skill_combo'].unique())}\n",
    "df['skill_id'] = df['skill_combo'].map(combo2id)\n",
    "\n",
    "\n",
    "# 合并各维度ID\n",
    "fact_jobs = df.merge(dim_titles, on='title', how='left') \\\n",
    "    .merge(dim_companies, on='company', how='left') \\\n",
    "    .merge(dim_locations, on=['sub_region', 'region'], how='left') \\\n",
    "    .merge(dim_job_type, on='type', how='left') \\\n",
    "    .merge(dim_industries, on='industry', how='left') \\\n",
    "    .merge(dim_salary, on='salary_bucket', how='left') \\\n",
    "    .merge(dim_accredited, on='accredited_label', how='left') \\\n",
    "    .merge(dim_datetime[['datetime_id']], on='datetime_id', how='left')\\\n",
    "    .merge(dim_skills[['skill_id']], on='skill_id', how='left')\n",
    "\n",
    "\n",
    "\n",
    "# 只保留 fact 表需要的 id 字段和指标字段\n",
    "fact_jobs = fact_jobs[[\n",
    "    'id','title_id', 'company_id', 'location_id', 'job_type_id', 'industry_id',\n",
    "    'salary_id', 'accredited_id', 'datetime_id', 'skill_id', 'is_active'\n",
    "    \n",
    "]]\n",
    "\n",
    "print(fact_jobs.head(20))"
   ]
  },
  {
   "cell_type": "code",
   "execution_count": 102,
   "id": "9b4abc47",
   "metadata": {},
   "outputs": [],
   "source": [
    "fact_jobs.to_csv('fact_jobs.csv', index=False)"
   ]
  }
 ],
 "metadata": {
  "kernelspec": {
   "display_name": "job_env",
   "language": "python",
   "name": "python3"
  },
  "language_info": {
   "codemirror_mode": {
    "name": "ipython",
    "version": 3
   },
   "file_extension": ".py",
   "mimetype": "text/x-python",
   "name": "python",
   "nbconvert_exporter": "python",
   "pygments_lexer": "ipython3",
   "version": "3.10.18"
  }
 },
 "nbformat": 4,
 "nbformat_minor": 5
}
