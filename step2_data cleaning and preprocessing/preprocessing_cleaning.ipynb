{
 "cells": [
  {
   "cell_type": "markdown",
   "id": "4c55b78a",
   "metadata": {},
   "source": [
    "# Data Cleaning and Preprocessing"
   ]
  },
  {
   "cell_type": "code",
   "execution_count": 1,
   "id": "274565b0",
   "metadata": {},
   "outputs": [],
   "source": [
    "# Import packages\n",
    "import pandas as pd\n",
    "import re\n",
    "import numpy as np\n",
    "from sklearn.preprocessing import MultiLabelBinarizer"
   ]
  },
  {
   "cell_type": "code",
   "execution_count": 2,
   "id": "bdb72b7d",
   "metadata": {},
   "outputs": [
    {
     "name": "stdout",
     "output_type": "stream",
     "text": [
      "      id                                 title                       company    location       type  \\\n",
      "0  21070                 Deafblind Coordinator           Blind Low Vision NZ    Auckland  Full time   \n",
      "1  21840  Site supervisor for structural steel  Grayson Engineering 2015 Ltd    Auckland  Full time   \n",
      "2  22213      Project manager structural steel  Grayson Engineering 2015 Ltd    Auckland  Full time   \n",
      "3  26397          Medical Device Kit Assembler                       Stryker    Auckland  Full time   \n",
      "4  27671                Holiday Park Assistant       Lakes Edge Holiday Park  Canterbury  Full time   \n",
      "\n",
      "                                                                                                                                                                                                                                                                                                                                                                                                                                                                                                                                                                                                                                                                                                                                                                                                                                                                                                                                                                                                                                                                                                                                                                                                                                                                                                                                                                                                                                                                                                                                                                                                                                                                                                                                                                                                                                                                                                                                                                                                                                                                                                                                                                                                                                                                                                                                                                                                                                                                                                                                                                                                                                                                                                                                                                                                                                                                                                                                                                                                                                                                                                                                                                                                                                                                                                                                                                                                                                                                                                                                                                                                                                                                                                                                                                                                                                                                                                                                                                                                                     description  \\\n",
      "0  <p><strong>Mō mātou | About Us</strong></p><p>Blind Low Vision NZ is the leading national provider of vision rehabilitation services for people who are blind, deafblind or have low vision.</p><p>Now more than ever, the opportunities are here to make a real difference for people with sight loss, and you’ll help us achieve our vison of empowering New Zealanders who are blind, deafblind or low vision, to live the life they choose. As well as supporting individuals, we seek to make big-picture change by advocating for inclusive communities and for optimal eye care services for all New Zealanders.</p><p>We have a rich history stretching back to 1890 and as we continue to connect people with sight loss to expert employees and their peers, we also continue to be one of New Zealand's most trusted and iconic not for profit organisations.</p><p><strong>Mō tēnei tūranga mahi | About this role</strong></p><p>In this full time (37.5hrs) fixed term (ending 19 May 2025) opportunity, as the Deafblind Coordinator, you will be responsible for screening and identifying the appropriate level of deafblind support required. You will work closely with the client/their support network/whānau to identify needs and provide fundamental service and support to achieve the best outcome. The successful applicant will also provide support/advice on hard of hearing and deafblindness and work collaboratively with Client Services staff and external agencies to ensure hard of hearing and deafblind clients’ mobility, daily living, communication, socialisation, and other hard of hearing and deafblind needs are connected.</p><p>You will provide specialist vision rehabilitation services for Deafblind / dual sensory loss clients, taking a holistic view of service delivery in assisting them to live the life they choose. Deafblind is a unique sensory loss of both hearing and vision, where neither sense can fully compensate for the other, the combination of which fundamentally affects every aspect of a person’s life, most notably communication, socialisation, mobility, and daily living. </p><p>Contractors are welcome to apply. </p><p><strong>Ko wai koe | About you</strong></p><p><strong>To be successful in this role, it is essential you have the following;</strong></p><ul><li>Demonstrated experience and a tertiary qualification in Human, Social Services or Rehabilitation</li><li>Experience in service delivery within this field, general health, occupational therapy or rehabilitation</li></ul><p><strong>It is desirable you have a mix of the following:</strong></p><ul><li>Demonstrated skills and knowledge of common communication methods used by hard of hearing and deafblind people or the willingness to up skill in this area</li><li>Knowledge and understanding of blindness/hard of hearing and deaf blindness and its implications</li><li>Excellent oral and written communication skills and ability to engage effectively with a variety of individuals – internally and externally</li><li>Ability to build and maintain relationships and networks with external agencies</li><li>Strong planning, organisational and time management skills</li><li>Proficient in Microsoft Office Applications and Salesforce</li><li>Ability to work autonomously and without supervision</li><li>Ability to work outside normal office hours, travel and stay away over night when needed</li><li>Familiar with and applies Treaty of Waitangi principles</li></ul><p>If you believe you have what we are looking for, we would love to hear from you! Please submit a formal application through our Careers Portal, where you can view the full position description. If you have any questions, please contact our Recruitment Team - recruitment@blindlowvision.org.nz </p><p><strong>Applications close:</strong> 06 November 2024</p><p>Please note applications may close sooner if suitable candidate found</p>   \n",
      "1                                                                                                                                                                                                                                                                                                                                                                                                                                                                                                                                                                                                                                                                                                                                                                                                                                                                                                                                                        <p>We are looking for an experienced Site Supervisor who can take charge of the day to day running of our structural steel rigging and crane teams, who work on various sites throughout New Zealand, this position will report to a Project Manager </p><p> </p><p>You will need to bring to this role the following:- </p><p> </p><ul><li>A minimum of 5 years experience, 2 years of which ideally would be in New Zealand.</li><li>Be a New Zealand citizen or resident</li><li>Hold a full NZ drivers licence</li><li>Ideally be from a trade background.</li><li>Ability to communicate at all levels </li><li>A good understanding of Health and Safety relevant to the worksite</li><li>Full knowledge of and ability to interpret structural steel drawings</li></ul><p> </p><p>In return we will offer you:-</p><p> </p><ul><li>A competitive salary package</li><li>Ongoing training and development</li><li>Opportunity to work on iconic New Zealand projects</li><li>A healthy and safe workplace.</li></ul><p> </p><p>A full job description can be found below:-</p><ul><li>Reporting to Grayson Engineering Site Management</li><li>Working on various construction sites throughout New Zealand as directed by Grayson  engineering site management.</li><li>Responsible for adhering to all relevant safety rules and regulations applicable to specific building sites and ensuring that they are enforced and maintained including filling out &amp; monitoring all health &amp; safety related paperwork on a daily basis.</li><li>Responsible for the safe and effective running and daily duties of a medium sized site crew.</li><li>Able to read and interpret structural steel general arrangement drawings for the purposes of steel erection on site.</li><li>Monitor and record/file all records including H&amp;S and QA documentation, delivery information, day works or variation related works.</li><li>Able to mark out and set out on site for the purposes of steel erection.</li><li>Able to supervise the fixing and securing of structural steel elements according to drawings and within prescribed tolerances.</li><li>Able to supervise the erection and securing of structural steel to the point of signing off and handing over to the client.</li><li>Able to liaise with the client to ensure that all works are performed in a safe and timely manner to the satisfaction of the client.</li><li>Able to track progress and as such report on progress relative to programme requirements.</li><li>Able to identify extra work that falls outside of contractual requirements and inform relevant parties of cost and programme implications ensuring correct paperwork &amp; documentation are correctly completed in order to make a claim for additional works.</li><li>A knowledge of fabrication and welding </li><li>A sound knowledge of mobile crane operations elevated work platforms and all relevant site tools and plant.</li><li>Any suitable additional tasks when requested by management.</li></ul>   \n",
      "2                                                                                                                                                                                                                                                                                                                                                                                                                                                                                                                                                                                                                                                                                                                                                                                                                                                                                                                                              <p>We are looking to employ an experienced Project Manager who can take charge of complex projects around New Zealand, this position will be part of the Project management team and will report directly to our Construction Manager and be responsible for all aspects of projects from start up to final closure. </p><p> </p><p>You will need to bring to this role the following:- </p><p> </p><ul><li>A minimum of 5 years experience, 2 years of which ideally would be in New Zealand.</li><li>Be a New Zealand citizen or resident</li><li>Hold a full NZ drivers licence</li><li>A trade background would be beneficial</li><li>PMP, diploma or degree in construction management would be preferred </li><li>Sound knowledge of AS/NZS 3403 and AS/NZS 5131 </li><li>Excellent communication skills at all levels</li><li>Proficient in MS Office, Aconex, Procore and Outlook.</li><li>Excellent understanding of Health, Safety, Environmental, requirements</li></ul><p>In return we will offer you:-</p><p>A competitive salary package</p><ul><li>Ongoing training and development</li><li>Opportunity to work on iconic New Zealand projects</li><li>A healthy and safe workplace.</li></ul><p> </p><p>A full job description can be found below:-</p><p> </p><ul><li>Responsible for adhering to all relevant safety rules and regulations applicable to specific building sites and ensuring that they are enforced on site</li><li>Able to read and interpret Structural and Architectural drawings including project specific specifications and convey with detailers/workshop/site.</li><li>Fully responsible for complete projects from start up until completion – Project launch thru to sign off/QA documentation from site (supplied by Site supervisors/Site manager, QA coordinator) Liaise with client regarding programme and assess internal programme/restraints, advise client of any impending delays.</li><li>Resolving Request for information (RFI) from detailers, understanding RFI content, making client aware of all delays and constraints, expediting a quick response to RFIs and approval issues.</li><li>Assess build-ability issues and methods of construction in conjunction with the Workshop Manager, Construction Manager and Site Manager, formulate erection methodologies and convey these to the Client.</li><li>Liaise/oversee sub-contractors – Steltech, or any external supplier that could impact programme and quality.</li><li>Monitor and assess fabrication, progress, durations ensuring programme dates will be met.</li><li>Attending pre-construction meetings and site meetings throughout the duration of the projects.</li><li>Responsible for the monitoring and recording/filing of all records including H&amp;S and QA documentation, delivery information, day works or variation related works.</li><li>Assist with costing variation works once project has commenced, liaise with workshop for any fabrications or material procurement alongside site manager and site supervisors.</li></ul>   \n",
      "3                                                                                                                                                                                                                                                                                                                                                                                                                                                                                                                                                                                                                                                                                                                    <p><br /> </p><p>This<strong> Kit Assembler</strong> role offers you the opportunity to join the team in Mount Wellington, Auckland <strong>on a full time basis! This is the perfect opportunity for a biomedical or health graduate wanting to break into the medical device industry or to transition out of the hospitality or retail industry.</strong></p><p>In this role, you will play a vital role in the moments that matter most - the seconds, minutes and hours in which patients’ lives are changed forever. Our medical kits contain the implants, tools and equipment the medical professionals need to successfully complete the surgery and improve patient's quality of life.</p><p> </p><p><strong>You must have full working rights in New Zealand for this role.</strong></p><p> </p><p><strong>What you will do:</strong></p><ul><li>Pick, patch and dispatch loan kits efficiently and accurately to meet customer needs</li><li>Ensure kits are delivered in-full and on-time</li><li>Maintain accurate records in our system of all dispatch and returns</li><li>Conduct quality checks on returned kits</li><li>Liaise with hospital staff, sales representatives and customer service personnel  </li></ul><p> </p><p><strong>What we are looking for:</strong></p><ul><li><strong>Dedicated achievers</strong>. People who thrive in a fast-paced environment and will stop at nothing to ensure a project is complete and meets regulations and expectations.</li><li><strong>Teammates. </strong>Partners who listen to ideas, share thoughts and work together to achieve the greatest success.</li><li><strong>Detail-oriented orchestrators. </strong>People who have superior attention to detail and can work to a high level of accuracy.</li><li><strong>Self-starters. </strong>People who take ownership of their work and need no prompting to drive productivity, change, and outcomes</li><li><strong>Challengers. </strong>People who seek out the hard projects and work to find just the right solutions.</li></ul><p> </p><p> </p><p><strong>Culture and Benefits:</strong></p><p>At Stryker, you can expect an attractive package including a broad range of discounts and benefits from a range of partners! This is a genuine opportunity for an ambitious and customer focused individual to progress and grow your career with a leading global medical device company that offers countless development opportunities.</p><p>Some of our benefits include:</p><ul><li>Multiple financial benefits including health care, financial wellbeing, insurance benefits. </li><li>Ongoing training and opportunities for career progression</li><li>Paid Parental leave schemes</li><li>Volunteer Days</li><li>Being part of one of the world’s largest and most recognizable brands.</li><li>Excellent team culture – we have fun whilst we work!</li><li>A Leader who will support &amp; guide you throughout your career</li><li>Access to employee benefits</li><li>Access to our career and self-development program from day one</li><li>Work with likeminded individuals who are driven by exceeding targets and improving patient outcomes</li></ul><p> </p><p><strong>If this sounds like an exciting opportunity, please apply today! </strong></p>   \n",
      "4                                                                                                                                                                                                                                                                                                                                                                                                                                                                                                                                                                                                                                                                                                                                                                                                                                                                                                                                                                                                                                                                                                                                                                                                                                                                                                                                                                                                                                                                                                                                                                                                                                                                                                                                                                                                                                                                                                                                                                                                                                                                                                                                                                                                                                                                                                                                                                                                                                                                                                                                                                                                                           <p>We are looking for an enthusiastic and energetic individual to work at our busy Holiday Park!<br />Someone who has strong work ethics and a can-do attitude to join our amazing team - an all rounder who enjoys variety in their work day. Full time position but part time considered.<br /><br />Duties as a Holiday Park assistant will include<br />- Daily cleaning in our vast range of accommodation types (cabins, motels, backpackers and amenities)<br />- Room Servicing<br />- Laundry (washing, folding and restock)<br /><br />Also a possibility for some reception work if you are planning to stay long term. Duties would include checking in guests and answering any phone calls, emails or queries. <br /><br />To apply for this position you must:<br />Be a good team player<br />Demonstrated experience in customer service<br />Have a good understanding of the English language<br />Have good attention to detail<br />Have good organisation skills<br />Have a current work visa<br /><br />Our Receptionists and Housekeeping attendants work on a 7 day roster and you will be required to work weekends and public holidays if it falls on your normal working day.<br /><br />We will provide:<br />Heavily discounted staff accommodation if needed, including free unlimited wifi and power<br />A great team to work with, from all around the world!</p>   \n",
      "\n",
      "                                   url                          industry                       salary  hour_rate  weekly_hours source           created_at classified_location classified_industry classified_type                  date                                                                                                                                                              short_description  is_active    job_id  accredited  \n",
      "0  https://www.seek.co.nz/job/78022405  Community Services & Development                           面议        NaN           NaN   seek  2024-08-24 20:55:36            Auckland             社区服务与发展              全职  2024-08-12T03:46:44Z                                            Empower people and communities to connect\\nNot for profit sector\\nUse your skills & experience to make a different in the community          0  78022405         0.0  \n",
      "1  https://www.seek.co.nz/job/78263986                      Construction                           面议        NaN           NaN   seek  2024-08-24 20:56:50            Auckland                  建筑              全职  2024-08-21T01:25:41Z                                                                                     Competitive salary package\\nOngoing training and development\\nA healthy and safe workplace          0  78263986         0.0  \n",
      "2  https://www.seek.co.nz/job/78263248                      Construction                           面议        NaN           NaN   seek  2024-08-24 20:57:25            Auckland                  建筑              全职  2024-08-21T01:08:19Z                                                                        Competitive salary package\\nOngoing training and development\\nOpportunity to work on iconic NZ projects          0  78263248         0.0  \n",
      "3  https://www.seek.co.nz/job/78326190              Healthcare & Medical  Base salary + Bonus + Super        NaN           NaN   seek  2024-08-24 21:04:09            Auckland                医疗保健              全职  2024-08-23T01:23:52Z  Join one of Australia’s Best Places to Work in 2020\\nPlay a vital role in changing lives with a supportive team environment\\nMentorship, bonus & career development available          0  78326190         0.0  \n",
      "4  https://www.seek.co.nz/job/78198262             Hospitality & Tourism                           面议        NaN           NaN   seek  2024-08-24 21:06:13          Canterbury               酒店与旅游              全职  2024-08-19T03:14:15Z                                                                                                                                                                            NaN          0  78198262         0.0  \n"
     ]
    }
   ],
   "source": [
    "# Load the CSV file\n",
    "df_seek = pd.read_csv(\"../step1_connect db and ETL strategy/job_seek_new.csv\")\n",
    "\n",
    "pd.set_option('display.max_columns', None)\n",
    "pd.set_option('display.width', 1000)\n",
    "pd.set_option('display.max_colwidth', None)\n",
    "\n",
    "print(df_seek.head())"
   ]
  },
  {
   "cell_type": "code",
   "execution_count": 3,
   "id": "8c815bda",
   "metadata": {},
   "outputs": [
    {
     "name": "stdout",
     "output_type": "stream",
     "text": [
      "<class 'pandas.core.frame.DataFrame'>\n",
      "RangeIndex: 95863 entries, 0 to 95862\n",
      "Data columns (total 21 columns):\n",
      " #   Column               Non-Null Count  Dtype  \n",
      "---  ------               --------------  -----  \n",
      " 0   id                   95863 non-null  int64  \n",
      " 1   title                95863 non-null  object \n",
      " 2   company              95863 non-null  object \n",
      " 3   location             95863 non-null  object \n",
      " 4   type                 95863 non-null  object \n",
      " 5   description          95859 non-null  object \n",
      " 6   url                  95863 non-null  object \n",
      " 7   industry             95863 non-null  object \n",
      " 8   salary               95858 non-null  object \n",
      " 9   hour_rate            35574 non-null  float64\n",
      " 10  weekly_hours         0 non-null      float64\n",
      " 11  source               95863 non-null  object \n",
      " 12  created_at           95863 non-null  object \n",
      " 13  classified_location  95863 non-null  object \n",
      " 14  classified_industry  95863 non-null  object \n",
      " 15  classified_type      95863 non-null  object \n",
      " 16  date                 95863 non-null  object \n",
      " 17  short_description    68162 non-null  object \n",
      " 18  is_active            95863 non-null  int64  \n",
      " 19  job_id               95863 non-null  int64  \n",
      " 20  accredited           60312 non-null  float64\n",
      "dtypes: float64(3), int64(3), object(15)\n",
      "memory usage: 15.4+ MB\n"
     ]
    }
   ],
   "source": [
    "# Check DataFrame info\n",
    "df_seek.info()"
   ]
  },
  {
   "cell_type": "code",
   "execution_count": 4,
   "id": "635380e7",
   "metadata": {},
   "outputs": [
    {
     "name": "stdout",
     "output_type": "stream",
     "text": [
      "duplicated rows: False\n",
      "duplicated row numbers: 0\n"
     ]
    }
   ],
   "source": [
    "duplicates = df_seek.duplicated()\n",
    "print(f\"duplicated rows: {duplicates.any()}\")\n",
    "print(f\"duplicated row numbers: {duplicates.sum()}\")\n",
    "\n",
    "if duplicates.any():\n",
    "    print(df_seek[duplicates])"
   ]
  },
  {
   "cell_type": "code",
   "execution_count": 5,
   "id": "57396f6b",
   "metadata": {},
   "outputs": [
    {
     "name": "stdout",
     "output_type": "stream",
     "text": [
      "      id                                 title                       company    location       type  \\\n",
      "0  21070                 Deafblind Coordinator           Blind Low Vision NZ    Auckland  Full time   \n",
      "1  21840  Site supervisor for structural steel  Grayson Engineering 2015 Ltd    Auckland  Full time   \n",
      "2  22213      Project manager structural steel  Grayson Engineering 2015 Ltd    Auckland  Full time   \n",
      "3  26397          Medical Device Kit Assembler                       Stryker    Auckland  Full time   \n",
      "4  27671                Holiday Park Assistant       Lakes Edge Holiday Park  Canterbury  Full time   \n",
      "5  27946             Venue Manager - Bakehouse      Ayrburn Precinct Limited       Otago  Full time   \n",
      "6  29815                 Senior Analyst Tester     FNZ Services (NZ) Limited    Auckland  Full time   \n",
      "7  29830                        Analyst Tester     FNZ Services (NZ) Limited  Wellington  Full time   \n",
      "8  30043                   Construction Lawyer         Forte Recruitment Ltd  Wellington  Full time   \n",
      "9  30198               Legal Executive Estates         Nicholsons Solicitors    Taranaki  Full time   \n",
      "\n",
      "                                                                                                                                                                                                                                                                                                                                                                                                                                                                                                                                                                                                                                                                                                                                                                                                                                                                                                                                                                                                                                                                                                                                                                                                                                                                                                                                                                                                                                                                                                                                                                                                                                                                                                                                                                                                                                                                                                                                                                                                                                                                                                                                                                                                                                                                                                                                                                                                                                                                                                                                                                                                                                                                                                                                                                                                                                                                                                                                                                                                                                                                                                                                                                                                                                                                                                                                                                                                                                                                                                                                                                                                                                                                                                                                                                                                                                                                                                                                                                                                                     description  \\\n",
      "0  <p><strong>Mō mātou | About Us</strong></p><p>Blind Low Vision NZ is the leading national provider of vision rehabilitation services for people who are blind, deafblind or have low vision.</p><p>Now more than ever, the opportunities are here to make a real difference for people with sight loss, and you’ll help us achieve our vison of empowering New Zealanders who are blind, deafblind or low vision, to live the life they choose. As well as supporting individuals, we seek to make big-picture change by advocating for inclusive communities and for optimal eye care services for all New Zealanders.</p><p>We have a rich history stretching back to 1890 and as we continue to connect people with sight loss to expert employees and their peers, we also continue to be one of New Zealand's most trusted and iconic not for profit organisations.</p><p><strong>Mō tēnei tūranga mahi | About this role</strong></p><p>In this full time (37.5hrs) fixed term (ending 19 May 2025) opportunity, as the Deafblind Coordinator, you will be responsible for screening and identifying the appropriate level of deafblind support required. You will work closely with the client/their support network/whānau to identify needs and provide fundamental service and support to achieve the best outcome. The successful applicant will also provide support/advice on hard of hearing and deafblindness and work collaboratively with Client Services staff and external agencies to ensure hard of hearing and deafblind clients’ mobility, daily living, communication, socialisation, and other hard of hearing and deafblind needs are connected.</p><p>You will provide specialist vision rehabilitation services for Deafblind / dual sensory loss clients, taking a holistic view of service delivery in assisting them to live the life they choose. Deafblind is a unique sensory loss of both hearing and vision, where neither sense can fully compensate for the other, the combination of which fundamentally affects every aspect of a person’s life, most notably communication, socialisation, mobility, and daily living. </p><p>Contractors are welcome to apply. </p><p><strong>Ko wai koe | About you</strong></p><p><strong>To be successful in this role, it is essential you have the following;</strong></p><ul><li>Demonstrated experience and a tertiary qualification in Human, Social Services or Rehabilitation</li><li>Experience in service delivery within this field, general health, occupational therapy or rehabilitation</li></ul><p><strong>It is desirable you have a mix of the following:</strong></p><ul><li>Demonstrated skills and knowledge of common communication methods used by hard of hearing and deafblind people or the willingness to up skill in this area</li><li>Knowledge and understanding of blindness/hard of hearing and deaf blindness and its implications</li><li>Excellent oral and written communication skills and ability to engage effectively with a variety of individuals – internally and externally</li><li>Ability to build and maintain relationships and networks with external agencies</li><li>Strong planning, organisational and time management skills</li><li>Proficient in Microsoft Office Applications and Salesforce</li><li>Ability to work autonomously and without supervision</li><li>Ability to work outside normal office hours, travel and stay away over night when needed</li><li>Familiar with and applies Treaty of Waitangi principles</li></ul><p>If you believe you have what we are looking for, we would love to hear from you! Please submit a formal application through our Careers Portal, where you can view the full position description. If you have any questions, please contact our Recruitment Team - recruitment@blindlowvision.org.nz </p><p><strong>Applications close:</strong> 06 November 2024</p><p>Please note applications may close sooner if suitable candidate found</p>   \n",
      "1                                                                                                                                                                                                                                                                                                                                                                                                                                                                                                                                                                                                                                                                                                                                                                                                                                                                                                                                                        <p>We are looking for an experienced Site Supervisor who can take charge of the day to day running of our structural steel rigging and crane teams, who work on various sites throughout New Zealand, this position will report to a Project Manager </p><p> </p><p>You will need to bring to this role the following:- </p><p> </p><ul><li>A minimum of 5 years experience, 2 years of which ideally would be in New Zealand.</li><li>Be a New Zealand citizen or resident</li><li>Hold a full NZ drivers licence</li><li>Ideally be from a trade background.</li><li>Ability to communicate at all levels </li><li>A good understanding of Health and Safety relevant to the worksite</li><li>Full knowledge of and ability to interpret structural steel drawings</li></ul><p> </p><p>In return we will offer you:-</p><p> </p><ul><li>A competitive salary package</li><li>Ongoing training and development</li><li>Opportunity to work on iconic New Zealand projects</li><li>A healthy and safe workplace.</li></ul><p> </p><p>A full job description can be found below:-</p><ul><li>Reporting to Grayson Engineering Site Management</li><li>Working on various construction sites throughout New Zealand as directed by Grayson  engineering site management.</li><li>Responsible for adhering to all relevant safety rules and regulations applicable to specific building sites and ensuring that they are enforced and maintained including filling out &amp; monitoring all health &amp; safety related paperwork on a daily basis.</li><li>Responsible for the safe and effective running and daily duties of a medium sized site crew.</li><li>Able to read and interpret structural steel general arrangement drawings for the purposes of steel erection on site.</li><li>Monitor and record/file all records including H&amp;S and QA documentation, delivery information, day works or variation related works.</li><li>Able to mark out and set out on site for the purposes of steel erection.</li><li>Able to supervise the fixing and securing of structural steel elements according to drawings and within prescribed tolerances.</li><li>Able to supervise the erection and securing of structural steel to the point of signing off and handing over to the client.</li><li>Able to liaise with the client to ensure that all works are performed in a safe and timely manner to the satisfaction of the client.</li><li>Able to track progress and as such report on progress relative to programme requirements.</li><li>Able to identify extra work that falls outside of contractual requirements and inform relevant parties of cost and programme implications ensuring correct paperwork &amp; documentation are correctly completed in order to make a claim for additional works.</li><li>A knowledge of fabrication and welding </li><li>A sound knowledge of mobile crane operations elevated work platforms and all relevant site tools and plant.</li><li>Any suitable additional tasks when requested by management.</li></ul>   \n",
      "2                                                                                                                                                                                                                                                                                                                                                                                                                                                                                                                                                                                                                                                                                                                                                                                                                                                                                                                                              <p>We are looking to employ an experienced Project Manager who can take charge of complex projects around New Zealand, this position will be part of the Project management team and will report directly to our Construction Manager and be responsible for all aspects of projects from start up to final closure. </p><p> </p><p>You will need to bring to this role the following:- </p><p> </p><ul><li>A minimum of 5 years experience, 2 years of which ideally would be in New Zealand.</li><li>Be a New Zealand citizen or resident</li><li>Hold a full NZ drivers licence</li><li>A trade background would be beneficial</li><li>PMP, diploma or degree in construction management would be preferred </li><li>Sound knowledge of AS/NZS 3403 and AS/NZS 5131 </li><li>Excellent communication skills at all levels</li><li>Proficient in MS Office, Aconex, Procore and Outlook.</li><li>Excellent understanding of Health, Safety, Environmental, requirements</li></ul><p>In return we will offer you:-</p><p>A competitive salary package</p><ul><li>Ongoing training and development</li><li>Opportunity to work on iconic New Zealand projects</li><li>A healthy and safe workplace.</li></ul><p> </p><p>A full job description can be found below:-</p><p> </p><ul><li>Responsible for adhering to all relevant safety rules and regulations applicable to specific building sites and ensuring that they are enforced on site</li><li>Able to read and interpret Structural and Architectural drawings including project specific specifications and convey with detailers/workshop/site.</li><li>Fully responsible for complete projects from start up until completion – Project launch thru to sign off/QA documentation from site (supplied by Site supervisors/Site manager, QA coordinator) Liaise with client regarding programme and assess internal programme/restraints, advise client of any impending delays.</li><li>Resolving Request for information (RFI) from detailers, understanding RFI content, making client aware of all delays and constraints, expediting a quick response to RFIs and approval issues.</li><li>Assess build-ability issues and methods of construction in conjunction with the Workshop Manager, Construction Manager and Site Manager, formulate erection methodologies and convey these to the Client.</li><li>Liaise/oversee sub-contractors – Steltech, or any external supplier that could impact programme and quality.</li><li>Monitor and assess fabrication, progress, durations ensuring programme dates will be met.</li><li>Attending pre-construction meetings and site meetings throughout the duration of the projects.</li><li>Responsible for the monitoring and recording/filing of all records including H&amp;S and QA documentation, delivery information, day works or variation related works.</li><li>Assist with costing variation works once project has commenced, liaise with workshop for any fabrications or material procurement alongside site manager and site supervisors.</li></ul>   \n",
      "3                                                                                                                                                                                                                                                                                                                                                                                                                                                                                                                                                                                                                                                                                                                    <p><br /> </p><p>This<strong> Kit Assembler</strong> role offers you the opportunity to join the team in Mount Wellington, Auckland <strong>on a full time basis! This is the perfect opportunity for a biomedical or health graduate wanting to break into the medical device industry or to transition out of the hospitality or retail industry.</strong></p><p>In this role, you will play a vital role in the moments that matter most - the seconds, minutes and hours in which patients’ lives are changed forever. Our medical kits contain the implants, tools and equipment the medical professionals need to successfully complete the surgery and improve patient's quality of life.</p><p> </p><p><strong>You must have full working rights in New Zealand for this role.</strong></p><p> </p><p><strong>What you will do:</strong></p><ul><li>Pick, patch and dispatch loan kits efficiently and accurately to meet customer needs</li><li>Ensure kits are delivered in-full and on-time</li><li>Maintain accurate records in our system of all dispatch and returns</li><li>Conduct quality checks on returned kits</li><li>Liaise with hospital staff, sales representatives and customer service personnel  </li></ul><p> </p><p><strong>What we are looking for:</strong></p><ul><li><strong>Dedicated achievers</strong>. People who thrive in a fast-paced environment and will stop at nothing to ensure a project is complete and meets regulations and expectations.</li><li><strong>Teammates. </strong>Partners who listen to ideas, share thoughts and work together to achieve the greatest success.</li><li><strong>Detail-oriented orchestrators. </strong>People who have superior attention to detail and can work to a high level of accuracy.</li><li><strong>Self-starters. </strong>People who take ownership of their work and need no prompting to drive productivity, change, and outcomes</li><li><strong>Challengers. </strong>People who seek out the hard projects and work to find just the right solutions.</li></ul><p> </p><p> </p><p><strong>Culture and Benefits:</strong></p><p>At Stryker, you can expect an attractive package including a broad range of discounts and benefits from a range of partners! This is a genuine opportunity for an ambitious and customer focused individual to progress and grow your career with a leading global medical device company that offers countless development opportunities.</p><p>Some of our benefits include:</p><ul><li>Multiple financial benefits including health care, financial wellbeing, insurance benefits. </li><li>Ongoing training and opportunities for career progression</li><li>Paid Parental leave schemes</li><li>Volunteer Days</li><li>Being part of one of the world’s largest and most recognizable brands.</li><li>Excellent team culture – we have fun whilst we work!</li><li>A Leader who will support &amp; guide you throughout your career</li><li>Access to employee benefits</li><li>Access to our career and self-development program from day one</li><li>Work with likeminded individuals who are driven by exceeding targets and improving patient outcomes</li></ul><p> </p><p><strong>If this sounds like an exciting opportunity, please apply today! </strong></p>   \n",
      "4                                                                                                                                                                                                                                                                                                                                                                                                                                                                                                                                                                                                                                                                                                                                                                                                                                                                                                                                                                                                                                                                                                                                                                                                                                                                                                                                                                                                                                                                                                                                                                                                                                                                                                                                                                                                                                                                                                                                                                                                                                                                                                                                                                                                                                                                                                                                                                                                                                                                                                                                                                                                                           <p>We are looking for an enthusiastic and energetic individual to work at our busy Holiday Park!<br />Someone who has strong work ethics and a can-do attitude to join our amazing team - an all rounder who enjoys variety in their work day. Full time position but part time considered.<br /><br />Duties as a Holiday Park assistant will include<br />- Daily cleaning in our vast range of accommodation types (cabins, motels, backpackers and amenities)<br />- Room Servicing<br />- Laundry (washing, folding and restock)<br /><br />Also a possibility for some reception work if you are planning to stay long term. Duties would include checking in guests and answering any phone calls, emails or queries. <br /><br />To apply for this position you must:<br />Be a good team player<br />Demonstrated experience in customer service<br />Have a good understanding of the English language<br />Have good attention to detail<br />Have good organisation skills<br />Have a current work visa<br /><br />Our Receptionists and Housekeeping attendants work on a 7 day roster and you will be required to work weekends and public holidays if it falls on your normal working day.<br /><br />We will provide:<br />Heavily discounted staff accommodation if needed, including free unlimited wifi and power<br />A great team to work with, from all around the world!</p>   \n",
      "5                                                                                                                                                                                                                                                                                                                                                                                                                                                                                                                                                                                                                                                                                                                                                                                                                                                                                                                                                                                                                                                                                                                                                                                                                                                                                                                                                                                                                                                                                                                                                     <p>Our exciting venture continues as we continue to grow our offerings and open our newest venue – The Bakehouse.<br />  <br />We are committed to creating an exceptional guest experience and are dedicated to offering outstanding service.  As we prepare for our opening, we need a Venue Manager to work with us to build and establish an exceptional team to deliver our vision. You will be responsible for organising and controlling the operation, to do so, tasks will include;</p><ul><li>planning and organising special functions</li><li>arranging the purchasing and pricing of goods according to budget</li><li>maintaining records of stock levels and financial transactions</li><li>ensuring dining facilities comply with health regulations and are clean, functional and of suitable appearance</li><li>conferring with customers to assess their satisfaction with meals and service</li><li>selecting, training and supervising waiting staff</li><li>taking reservations, greeting guests and assist in taking orders</li></ul><p>As a key part of our Ayrburn team, you will be an excellent communicator and an expert at building and maintaining key relationships. This unique and exciting opportunity will see you working closely alongside the management team, including the head chef, butcher, baker, pizza maker and be an integral part of setting the standard for our front of house and events, from the start of our journey. </p><p>You will be experienced in delivering exceptional service every time. Your leadership and people skills will see you ensuring that your team is dedicated and high performing and has the ability to deliver an unforgettable experience to our discerning guests. You will have a strong understanding of business acumen, financials and have a passion for developing your team. </p><p>In terms of you, this role will take a high level of commitment and drive, especially as we go live and make the business a success. Ideally you will have had previous pre-opening experience and a strong understanding of working under pressure while maintaining a calm atmosphere of sophistication. </p><p>This is a permanent full time position that comes with a competitive salary and additional staff benefits. </p><p>If this role sounds like you and you would like to be part of our journey, apply now!</p><p>Only those who have been shortlisted will be contacted.</p>   \n",
      "6                                                                                                                                            <p>Are you ready to take on a captivating role as a Senior Analyst Tester? Join our team and become an integral part of shaping the success of FNZ's cutting-edge platform. Your expertise will be put to the test as you review and analyse business requirements, unravel the complexities of our platform's functionality, and serve as a trusted advisor to our clients. Working alongside a client-aligned team, you'll collaborate closely to translate complex technical and business requirements into compelling user stories and core functionality documentation. Your meticulous approach will ensure that our solution designs not only meet but exceed client expectations, while effectively managing stakeholders to foster successful partnerships. </p><p>As a Senior Analyst Tester, you'll immerse yourself in the world of FNZ's platform, gaining a deep understanding of its capabilities and business processes. Your exceptional writing skills will shine as you produce high-quality artifacts to support testing activities, including test designs, matrices, cases, procedures, scripts, and behavioural models. By conducting thorough end-to-end systems, regression, and misuse case testing, you'll guarantee the flawless delivery of user stories to our clients.  </p><p>If you're seeking a dynamic environment where you can make a tangible impact, join our forward-thinking team as a Senior Analyst Tester and embark on an exciting journey of innovation and growth. </p><p> </p><p><strong>Our ideal candidate will have</strong> </p><ul><li>A relevant tertiary qualification or equivalent </li><li>4+ experience working within an analysis and testing roles  </li><li>Experience in dynamic and delivery-focused environments  </li><li>SQL experience required   </li></ul><p> </p><p><i>If your experience doesn't match perfectly, we still encourage you to apply if you're excited about this opportunity and joining FNZ. </i> </p><p> </p><p><strong>Why should you join us? </strong> </p><ul><li>A hybrid 3+2 model combining working from the office and from home.</li><li>A competitive salary and excellent benefits, including full comprehensive health insurance, Life insurance, additional annual leave days after your first 12 months, sick days, and more.</li><li>Be part of a highly successful, rapidly growing, global business that is leading the delivery of financial services via cloud computing and partners with some of the world’s largest companies.</li><li>We provide global career opportunities for our employees at any of our offices in the UK, Czech Republic, Australia, New Zealand, China and more.</li></ul><p> </p><p><strong>About FNZ</strong></p><p>FNZ is committed to opening up wealth so that everyone, everywhere can invest in their future on their terms. We know the foundation to do that already exists in the wealth management industry, but complexity holds firms back. </p><p>We created wealth’s growth platform to help. We provide a global, end-to-end wealth management platform that integrates modern technology with business and investment operations. All in a regulated financial institution. </p><p>We partner with over 650 financial institutions and 12,000 wealth managers, with US$1.5 trillion in assets under administration (AUA).</p><p>Together with our customers, we help over 20 million people from all wealth segments to invest in their future.</p><p><i>*Please note we shortlist as we receive applications. We encourage early applications as we may withdraw advertising at any time.  <strong>Please also note, we are unable to accept applications via email.</strong></i></p><p> </p><p><strong>For more information, please reach out to us!  </strong></p><p><strong>anz_recruitment@fnz.com</strong></p><p> </p>   \n",
      "7                                                                                                                                                                                                                                                                                 <p>Join our team as an Analyst Tester and embark on an exciting journey! In this role, you'll be actively involved in a wide range of tasks, keeping you engaged and challenged every step of the way. </p><p>You'll tackle cutting-edge technical testing approaches, from test automation to manipulating databases and xml injection testing. But it doesn't stop there! You'll also contribute to functional specification testing and play a vital role in the User Acceptance Testing (UAT) phase. </p><p>As a problem-solver and solution architect, you'll design innovative solutions aligned with our clients' goals. Take charge of end-to-end testing, covering both technical and UAT aspects, for new software and upgraded systems. Your keen eye for detail will help identify any issues. </p><p>Join our dynamic team, collaborating closely with clients and diving deep into IT systems and business models. Analyse business and technical requirements, translating them into captivating user stories and essential functionality documentation. </p><p> </p><p><strong>Our ideal candidate will have</strong> </p><ul><li>A relevant tertiary qualification or equivalent </li><li>Experience working within an analysis or testing role  </li><li>Experience with Microsoft .NET and C#  </li><li>Experience in dynamic and delivery-focused environments  </li><li>Knowledge and experience of Selenium webdriver  </li><li>Knowledge and experience with testing Rest API  </li><li>Intermediate computer skills essential (SQL experience desirable)  </li></ul><p> </p><p><i>If your experience doesn't match perfectly, we still encourage you to apply if you're excited about this opportunity and joining FNZ. </i> </p><p> </p><p><strong>Why should you join us? </strong> </p><ul><li>A hybrid 3+2 model combining working from the office and from home.</li><li>A competitive salary and excellent benefits, including full comprehensive health insurance, Life insurance, additional annual leave days after your first 12 months, sick days, and more.</li><li>Be part of a highly successful, rapidly growing, global business that is leading the delivery of financial services via cloud computing and partners with some of the world’s largest companies.</li><li>We provide global career opportunities for our employees at any of our offices in the UK, Czech Republic, Australia, New Zealand, China and more.</li></ul><p><strong>About FNZ</strong></p><p>FNZ is committed to opening up wealth so that everyone, everywhere can invest in their future on their terms. We know the foundation to do that already exists in the wealth management industry, but complexity holds firms back. </p><p>We created wealth’s growth platform to help. We provide a global, end-to-end wealth management platform that integrates modern technology with business and investment operations. All in a regulated financial institution. </p><p>We partner with over 650 financial institutions and 12,000 wealth managers, with US$1.5 trillion in assets under administration (AUA).</p><p>Together with our customers, we help over 20 million people from all wealth segments to invest in their future.</p><p> </p><p><i>*Please note we shortlist as we receive applications. We encourage early applications as we may withdraw advertising at any time.  <strong>Please also note, we are unable to accept applications via email.</strong></i></p><p> </p><p><strong>For more information, please reach out to us!  </strong></p><p><strong>You must have the legal right to work in New Zealand to be considered</strong></p><p><strong>apac_recruitment@fnz.com </strong></p><p> </p>   \n",
      "8                                                                                                                                                                                                                                                                                                                                                                                                                                                                                                                                                                                                                                                                                                                                                                                                                                                                                                                                                                                                                                                                                                                                                                                                                                                                                                                                                                                                                                                                            <p><strong>About the employer:</strong></p><ul><li>Supportive, passionate and well-respected Wellington owned and operated Law firm </li><li>Experts in Corporate, Commercial, Dispute Resolution and Employment Law</li><li>Well-established team of 16 staff </li><li>Seeking a Construction Lawyer/Senior Lawyer to fit into this team, commit and invest in this firm for the long term</li><li>You will not be a number here – your career progression, and happiness in your position and the team are important to the workplace environment</li></ul><p><strong>About the role:</strong></p><p>My client is seeking an experienced Construction Lawyer to join their Litigation and Dispute Resolution team. </p><ul><li>Work closely with Partners and other Senior Associates to manage the Litigation and Dispute Resolution portfolio </li><li>Core focus on Civil Litigation and Dispute Resolution within Construction </li><li>Help grow the Litigation team and portfolio </li></ul><p><strong>About you:</strong></p><p>They offer a down to earth, modern, friendly environment and are seeking someone who can offer the following: </p><ul><li>Litigation, Dispute Resolution and Construction Law experience </li><li>Relationship management skills to work closely with varied clients</li><li>Three + years’ experience as a practicing Lawyer</li><li>A current NZLS practising certificate </li><li>Private practice experience </li><li>The drive and initiative to work independently and take ownership of your role and portfolio </li></ul><p><strong>What’s in it for you:</strong></p><ul><li>Competitive salary, carpark, medical insurance, home internet allowance, 5 weeks annual leave, generous annual CPD budget and much more </li><li>Work life balance is important to them, and they also offer a flexible working policy </li><li>As a forward-thinking firm that is growing, they want someone to invest in for the long term, someone that genuinely wants opportunity for Partnership and someone that will contribute to the team’s skillset and culture</li><li>Collaborative, supportive and experienced team environment </li></ul><p><strong>Take action:</strong></p><p>Apply attaching your CV with a covering letter outlining your availability and experience, using the reference SAM6759 If you have any questions regarding this role call Sam on (04) 901 6444.</p><p>Please note: only applicants with the legal right to work in New Zealand will be considered for this role. </p>   \n",
      "9                                                                                                                                                                                                                                                                                                                                                                                                                                                                                                                                                                                                                                                                                                                                                                                                                                                                                                                                                                                                                                                                                                                                                                                                                                                                                                                                                                            <p><strong>Legal Secretary / Legal Executive / Estates – Nicholsons Lawyers New Plymouth</strong></p><p>A position has arisen for an experienced Legal Secretary / Legal Executive with an Estates administration background.</p><p>A unique role, this person will work alongside the Estates Manager and Partners as part of a team working with estate beneficiaries and executors to communicate expert legal advice in a supportive and understanding way.  </p><p> </p><p><strong>Job Description</strong></p><p>Provide comprehensive administrative support to the Estate team ensuring smooth daily operations.</p><p>Manage calendars, schedule appointments and coordinate meetings with clients and internal staff.<br />Prepare legal documents, including court documents, land transfer documents and all associated documentation.</p><p>Assisting in organising and maintaining client files ensuring accurate and up to date information</p><p>Collaborate closely with the Estates team to streamline processes.   </p><p>Liaising with Solicitors, Courts, and other Government agencies.</p><p>Drafting letters and emails as required.</p><p>Preparing invoices and statements.</p><p> </p><p><strong>Requirements </strong></p><p>Experience in Estates Administration</p><p>Detail-oriented and highly organised</p><p>Ability to multitask and prioritise effectively in a fast-paced environment.</p><p>Excellent attention to details and a meticulous approach to handling sensitive information</p><p>Proficiency in using computer software and advanced knowledge in Microsoft office suite. </p><p>Excellent computer, typing and formatting skills, including digital dictation transcription.   </p><p>Exceptional communication skills both written and verbal to interact confidently with both clients and colleagues.</p><p> </p><p>Flexible work considered.</p><p> </p><p>Nicholsons prides itself in offering a warm and friendly team environment where the staff can flourish in both their personal and professional endeavours.</p><p>Please email your CV, qualifications, and covering letter to our Practice Manager, Leonie Ngeru leonie.ngeru@nks.co.nz and clearly state the role which you are applying for. </p><p><i>All applications will be treated in the strictest of confidence.</i></p><p>We thank all applicants for their interest but only those selected for an interview will be contacted.</p><p><i>Please note this job description is intended to provide a general overview of the position and does not encompass all tasks or responsibilities that may be assigned.</i></p>   \n",
      "\n",
      "                                 industry                       salary  hour_rate  weekly_hours           created_at  is_active    job_id  accredited  \n",
      "0        Community Services & Development                           面议        NaN           NaN  2024-08-24 20:55:36          0  78022405         0.0  \n",
      "1                            Construction                           面议        NaN           NaN  2024-08-24 20:56:50          0  78263986         0.0  \n",
      "2                            Construction                           面议        NaN           NaN  2024-08-24 20:57:25          0  78263248         0.0  \n",
      "3                    Healthcare & Medical  Base salary + Bonus + Super        NaN           NaN  2024-08-24 21:04:09          0  78326190         0.0  \n",
      "4                   Hospitality & Tourism                           面议        NaN           NaN  2024-08-24 21:06:13          0  78198262         0.0  \n",
      "5                   Hospitality & Tourism                           面议        NaN           NaN  2024-08-24 21:06:41          0  78232402         1.0  \n",
      "6  Information & Communication Technology                           面议        NaN           NaN  2024-08-24 21:09:40          0  77645439         0.0  \n",
      "7  Information & Communication Technology                           面议        NaN           NaN  2024-08-24 21:09:41          1  77098049         0.0  \n",
      "8                                   Legal  $80,000 – $100,000 per year      38.46           NaN  2024-08-24 21:10:02          0  78076648         0.0  \n",
      "9                                   Legal                           面议        NaN           NaN  2024-08-24 21:10:16          0  78233163         1.0  \n"
     ]
    }
   ],
   "source": [
    "# Drop unnecessary columns\n",
    "df = df_seek.drop(columns=[\n",
    "    'short_description', 'source', 'date', 'url', 'classified_type', 'classified_industry', 'classified_location'\n",
    "    ]\n",
    ")\n",
    "print(df.head(10))"
   ]
  },
  {
   "cell_type": "code",
   "execution_count": 6,
   "id": "578c2d65",
   "metadata": {},
   "outputs": [
    {
     "name": "stdout",
     "output_type": "stream",
     "text": [
      "0      Auckland\n",
      "1      Auckland\n",
      "2      Auckland\n",
      "3      Auckland\n",
      "4    Canterbury\n",
      "Name: location, dtype: object\n"
     ]
    }
   ],
   "source": [
    "print(df['location'].head())"
   ]
  },
  {
   "cell_type": "code",
   "execution_count": 7,
   "id": "30cd334f",
   "metadata": {},
   "outputs": [
    {
     "name": "stdout",
     "output_type": "stream",
     "text": [
      "95858                 Henderson, Auckland\n",
      "95859        Whangarei Central, Northland\n",
      "95860           Hamilton Central, Waikato\n",
      "95861    Christchurch Central, Canterbury\n",
      "95862                   Hamilton, Waikato\n",
      "Name: location, dtype: object\n"
     ]
    }
   ],
   "source": [
    "print(df['location'].tail())"
   ]
  },
  {
   "cell_type": "code",
   "execution_count": 8,
   "id": "1bd98945",
   "metadata": {},
   "outputs": [],
   "source": [
    "def split_location(loc):\n",
    "    if ',' in loc:\n",
    "        parts = loc.split(',')\n",
    "        sub_region = parts[0].strip()\n",
    "        region = parts[1].strip()\n",
    "    else:\n",
    "        sub_region = 'Unknown'\n",
    "        region = loc.strip()\n",
    "    return pd.Series([sub_region, region])\n",
    "\n",
    "\n",
    "df[['sub_region', 'region']] = df['location'].apply(split_location)\n",
    "\n",
    "# Outliers in 'region' column\n",
    "country_names = [\n",
    "    \"New Zealand\", \"Australia\", \"China\", \"India\", \"Philippines\", \n",
    "    \"Singapore\", \"Fiji\", \"Malaysia\", \"South Africa\", \"United Kingdom\"\n",
    "]\n",
    "\n",
    "df = df[~df[\"region\"].isin(country_names)]"
   ]
  },
  {
   "cell_type": "code",
   "execution_count": 9,
   "id": "a9ce09cd",
   "metadata": {},
   "outputs": [],
   "source": [
    "df = df.drop(columns= 'location')"
   ]
  },
  {
   "cell_type": "code",
   "execution_count": 10,
   "id": "8efa5657",
   "metadata": {},
   "outputs": [],
   "source": [
    "# Extract skill keywords from the description field\n",
    "import re\n",
    "skills = [\n",
    "    # Analytics tools\n",
    "    \"Excel\", \"Power BI\", \"Tableau\", \"Looker\", \"Qlik\", \"SPSS\", \"Stata\",\n",
    "    # Programming languages\n",
    "    \"Python\", \"R\", \"Java\", \"JavaScript\", \"TypeScript\", \"C#\", \"C++\", \"C\", \"Ruby\", \"PHP\", \"Scala\",\n",
    "    # Databases\n",
    "    \"SQL\", \"NoSQL\", \"MySQL\", \"PostgreSQL\", \"SQLite\", \"MongoDB\", \"Oracle\", \"T-SQL\", \"PL/SQL\",\n",
    "    # Cloud platforms\n",
    "    \"AWS\", \"Azure\", \"Google Cloud\", \"GCP\", \"Firebase\", \"Snowflake\", \"Databricks\", \"BigQuery\",\n",
    "    # Development tools\n",
    "    \"Git\", \"GitHub\", \"Docker\", \"Kubernetes\", \"Jenkins\", \"VS Code\", \"IntelliJ\", \"Eclipse\", \"Confluence\", \"Jira\",\n",
    "    # Testing\n",
    "    \"Selenium\", \"Postman\", \"Cypress\", \"JUnit\", \"TestNG\", \"Pytest\", \"Mocha\", \"Chai\",\n",
    "    # Machine learning\n",
    "    \"scikit-learn\", \"TensorFlow\", \"Keras\", \"PyTorch\", \"XGBoost\", \"LightGBM\", \"OpenCV\", \"Hugging Face\",\n",
    "    # ETL and data engineering\n",
    "    \"Pandas\", \"NumPy\", \"BeautifulSoup\", \"Scrapy\", \"Airflow\", \"Apache Spark\", \"Kafka\", \"Talend\", \"Informatica\",\n",
    "    # Web development\n",
    "    \"HTML\", \"CSS\", \"React\", \"Angular\", \"Vue.js\", \"Bootstrap\", \"jQuery\", \"SASS\", \"REST API\", \"GraphQL\",\n",
    "    # Business software\n",
    "    \"Salesforce\", \"Microsoft Office\", \"Outlook\", \"SAP\", \"Xero\", \"QuickBooks\", \"Dynamics 365\"\n",
    " ]\n",
    "\n",
    "# Build regex pattern\n",
    "skills_sorted = sorted(skills, key=lambda x: -len(x))\n",
    "pattern = r\"(?i)\\b(\" + \"|\".join(re.escape(skill) for skill in skills_sorted) + r\")\\b\"\n",
    "\n",
    "\n",
    "def extract_skills(text):\n",
    "    if not isinstance(text, str):\n",
    "        return []\n",
    "    matches = re.findall(pattern, text)\n",
    "    return list(set(match.strip().title() for match in matches))\n",
    "# Apply to all descriptions\n",
    "df[\"skills_extracted\"] = df[\"description\"].apply(extract_skills)\n"
   ]
  },
  {
   "cell_type": "code",
   "execution_count": 11,
   "id": "a90c04f4",
   "metadata": {},
   "outputs": [
    {
     "name": "stdout",
     "output_type": "stream",
     "text": [
      "      id                                 title                       company       type                                industry                       salary  hour_rate  weekly_hours           created_at  is_active    job_id  accredited sub_region      region                skills_extracted\n",
      "0  21070                 Deafblind Coordinator           Blind Low Vision NZ  Full time        Community Services & Development                           面议        NaN           NaN  2024-08-24 20:55:36          0  78022405         0.0    Unknown    Auckland  [Microsoft Office, Salesforce]\n",
      "1  21840  Site supervisor for structural steel  Grayson Engineering 2015 Ltd  Full time                            Construction                           面议        NaN           NaN  2024-08-24 20:56:50          0  78263986         0.0    Unknown    Auckland                              []\n",
      "2  22213      Project manager structural steel  Grayson Engineering 2015 Ltd  Full time                            Construction                           面议        NaN           NaN  2024-08-24 20:57:25          0  78263248         0.0    Unknown    Auckland                       [Outlook]\n",
      "3  26397          Medical Device Kit Assembler                       Stryker  Full time                    Healthcare & Medical  Base salary + Bonus + Super        NaN           NaN  2024-08-24 21:04:09          0  78326190         0.0    Unknown    Auckland                              []\n",
      "4  27671                Holiday Park Assistant       Lakes Edge Holiday Park  Full time                   Hospitality & Tourism                           面议        NaN           NaN  2024-08-24 21:06:13          0  78198262         0.0    Unknown  Canterbury                              []\n",
      "5  27946             Venue Manager - Bakehouse      Ayrburn Precinct Limited  Full time                   Hospitality & Tourism                           面议        NaN           NaN  2024-08-24 21:06:41          0  78232402         1.0    Unknown       Otago                              []\n",
      "6  29815                 Senior Analyst Tester     FNZ Services (NZ) Limited  Full time  Information & Communication Technology                           面议        NaN           NaN  2024-08-24 21:09:40          0  77645439         0.0    Unknown    Auckland                           [Sql]\n",
      "7  29830                        Analyst Tester     FNZ Services (NZ) Limited  Full time  Information & Communication Technology                           面议        NaN           NaN  2024-08-24 21:09:41          1  77098049         0.0    Unknown  Wellington    [C, Selenium, Sql, Rest Api]\n",
      "8  30043                   Construction Lawyer         Forte Recruitment Ltd  Full time                                   Legal  $80,000 – $100,000 per year      38.46           NaN  2024-08-24 21:10:02          0  78076648         0.0    Unknown  Wellington                              []\n",
      "9  30198               Legal Executive Estates         Nicholsons Solicitors  Full time                                   Legal                           面议        NaN           NaN  2024-08-24 21:10:16          0  78233163         1.0    Unknown    Taranaki              [Microsoft Office]\n"
     ]
    }
   ],
   "source": [
    "df = df.drop(columns=['description'])\n",
    "print(df.head(10))"
   ]
  },
  {
   "cell_type": "code",
   "execution_count": 12,
   "id": "ec236a66",
   "metadata": {},
   "outputs": [],
   "source": [
    "df.drop(columns = ['job_id'], inplace=True)"
   ]
  },
  {
   "cell_type": "code",
   "execution_count": 13,
   "id": "ebc3c303",
   "metadata": {},
   "outputs": [
    {
     "name": "stdout",
     "output_type": "stream",
     "text": [
      "Missing ratio for hour_rate: 62.87%\n",
      "Column 'hour_rate' has more than 50% missing values, dropping it.\n",
      "Missing ratio for weekly_hours: 100.00%\n",
      "Column 'weekly_hours' has more than 50% missing values, dropping it.\n"
     ]
    }
   ],
   "source": [
    "# Recalculate missing value ratio for hour rate and weekly hours in a new cell\n",
    "for col in ['hour_rate', 'weekly_hours']:\n",
    "    if col in df.columns:\n",
    "        missing_ratio = df[col].isna().mean()\n",
    "        print(f\"Missing ratio for {col}: {missing_ratio:.2%}\")\n",
    "        if missing_ratio > 0.5:\n",
    "            print(f\"Column '{col}' has more than 50% missing values, dropping it.\")\n",
    "            df.drop(columns=[col], inplace=True)\n",
    "    else:\n",
    "        print(f\"Column '{col}' not found in DataFrame.\")"
   ]
  },
  {
   "cell_type": "code",
   "execution_count": 14,
   "id": "c6776018",
   "metadata": {},
   "outputs": [
    {
     "name": "stdout",
     "output_type": "stream",
     "text": [
      "0                             面议\n",
      "1                             面议\n",
      "2                             面议\n",
      "3    Base salary + Bonus + Super\n",
      "4                             面议\n",
      "Name: salary, dtype: object\n"
     ]
    }
   ],
   "source": [
    "print(df['salary'].head())"
   ]
  },
  {
   "cell_type": "code",
   "execution_count": 15,
   "id": "62f70393",
   "metadata": {},
   "outputs": [],
   "source": [
    "df_salary = df.copy()"
   ]
  },
  {
   "cell_type": "code",
   "execution_count": 16,
   "id": "03e70330",
   "metadata": {},
   "outputs": [
    {
     "name": "stdout",
     "output_type": "stream",
     "text": [
      "                            salary                    salary_clean  salary_num salary_bucket\n",
      "0                               面议                      Negotiable         NaN    Negotiable\n",
      "1                               面议                      Negotiable         NaN    Negotiable\n",
      "2                               面议                      Negotiable         NaN    Negotiable\n",
      "3      Base salary + Bonus + Super     Base salary + Bonus + Super         NaN         Other\n",
      "4                               面议                      Negotiable         NaN    Negotiable\n",
      "5                               面议                      Negotiable         NaN    Negotiable\n",
      "6                               面议                      Negotiable         NaN    Negotiable\n",
      "7                               面议                      Negotiable         NaN    Negotiable\n",
      "8      $80,000 – $100,000 per year     $80,000 – $100,000 per year     90000.0      50k-100k\n",
      "9                               面议                      Negotiable         NaN    Negotiable\n",
      "10      $75,000 – $85,000 per year      $75,000 – $85,000 per year     80000.0      50k-100k\n",
      "11                              面议                      Negotiable         NaN    Negotiable\n",
      "12  Hourly rate + bonus + benefits  Hourly rate + bonus + benefits         NaN         Other\n",
      "13                              面议                      Negotiable         NaN    Negotiable\n",
      "14    $110,000 – $160,000 per year    $110,000 – $160,000 per year    135000.0         100k+\n",
      "15                              面议                      Negotiable         NaN    Negotiable\n",
      "16                              面议                      Negotiable         NaN    Negotiable\n",
      "17                              面议                      Negotiable         NaN    Negotiable\n",
      "18                              面议                      Negotiable         NaN    Negotiable\n",
      "19                              面议                      Negotiable         NaN    Negotiable\n"
     ]
    }
   ],
   "source": [
    "def preprocess_salary_text(s):\n",
    "    if isinstance(s, str):\n",
    "        if s.strip() == \"面议\":\n",
    "            return \"Negotiable\"\n",
    "        elif s.strip().lower().startswith(\"competitive\"):\n",
    "            return \"Competitive\"\n",
    "        else:\n",
    "            return s\n",
    "    return s\n",
    "\n",
    "def parse_salary(s):\n",
    "    if not isinstance(s, str):\n",
    "        return np.nan\n",
    "    s = s.replace(',', '').replace('$', '')\n",
    "    match = re.search(r'(\\d+)[kK]?[\\s–-]+(\\d+)[kK]?', s)\n",
    "    if match:\n",
    "        low = int(match.group(1))\n",
    "        high = int(match.group(2))\n",
    "        if 'hour' in s:\n",
    "            return (low + high) / 2 * 40 * 52\n",
    "        else:\n",
    "            return (low + high) / 2\n",
    "    match = re.search(r'(\\d+)[kK]?', s)\n",
    "    if match:\n",
    "        val = int(match.group(1))\n",
    "        if 'hour' in s:\n",
    "            return val * 2000 * 40 * 52\n",
    "        else:\n",
    "            return val\n",
    "    return np.nan\n",
    "\n",
    "# Step 1: Clean salary text\n",
    "df_salary['salary_clean'] = df_salary['salary'].apply(preprocess_salary_text)\n",
    "\n",
    "# Step 2: Extract numeric salary (only for those not Negotiable/Competitive)\n",
    "df_salary['salary_num'] = np.where(df_salary['salary_clean'].isin(['Negotiable', 'Competitive']), np.nan, df_salary['salary_clean'].apply(parse_salary))\n",
    "\n",
    "# Step 3: Bin salary\n",
    "bins = [0, 50000, 100000, np.inf]\n",
    "labels = ['0-50k', '50k-100k', '100k+']\n",
    "df_salary['salary_bucket'] = pd.cut(df_salary['salary_num'], bins=bins, labels=labels, right=False)\n",
    "\n",
    "# Convert to object dtype to allow new string categories\n",
    "df_salary['salary_bucket'] = df_salary['salary_bucket'].astype(object)\n",
    "\n",
    "# Step 4: Assign Negotiable, Competitive, Other\n",
    "df_salary.loc[df_salary['salary_clean'] == 'Negotiable', 'salary_bucket'] = 'Negotiable'\n",
    "df_salary.loc[df_salary['salary_clean'] == 'Competitive', 'salary_bucket'] = 'Competitive'\n",
    "df_salary.loc[df_salary['salary_bucket'].isna() & (~df_salary['salary_clean'].isin(['Negotiable', 'Competitive'])), 'salary_bucket'] = 'Other'\n",
    "\n",
    "# Step 5: View result\n",
    "print(df_salary[['salary', 'salary_clean', 'salary_num', 'salary_bucket']].head(20))"
   ]
  },
  {
   "cell_type": "code",
   "execution_count": 17,
   "id": "95ae47e9",
   "metadata": {},
   "outputs": [
    {
     "name": "stdout",
     "output_type": "stream",
     "text": [
      "salary_bucket\n",
      "Negotiable     56890\n",
      "50k-100k       13890\n",
      "0-50k           7376\n",
      "Other           7305\n",
      "100k+           6936\n",
      "Competitive     3407\n"
     ]
    }
   ],
   "source": [
    "print(df_salary['salary_bucket'].value_counts(dropna=False).to_string())"
   ]
  },
  {
   "cell_type": "code",
   "execution_count": 18,
   "id": "9c555230",
   "metadata": {},
   "outputs": [
    {
     "name": "stdout",
     "output_type": "stream",
     "text": [
      "      id                                 title                       company       type                                industry           created_at  is_active  accredited sub_region      region                skills_extracted salary_bucket\n",
      "0  21070                 Deafblind Coordinator           Blind Low Vision NZ  Full time        Community Services & Development  2024-08-24 20:55:36          0         0.0    Unknown    Auckland  [Microsoft Office, Salesforce]    Negotiable\n",
      "1  21840  Site supervisor for structural steel  Grayson Engineering 2015 Ltd  Full time                            Construction  2024-08-24 20:56:50          0         0.0    Unknown    Auckland                              []    Negotiable\n",
      "2  22213      Project manager structural steel  Grayson Engineering 2015 Ltd  Full time                            Construction  2024-08-24 20:57:25          0         0.0    Unknown    Auckland                       [Outlook]    Negotiable\n",
      "3  26397          Medical Device Kit Assembler                       Stryker  Full time                    Healthcare & Medical  2024-08-24 21:04:09          0         0.0    Unknown    Auckland                              []         Other\n",
      "4  27671                Holiday Park Assistant       Lakes Edge Holiday Park  Full time                   Hospitality & Tourism  2024-08-24 21:06:13          0         0.0    Unknown  Canterbury                              []    Negotiable\n",
      "5  27946             Venue Manager - Bakehouse      Ayrburn Precinct Limited  Full time                   Hospitality & Tourism  2024-08-24 21:06:41          0         1.0    Unknown       Otago                              []    Negotiable\n",
      "6  29815                 Senior Analyst Tester     FNZ Services (NZ) Limited  Full time  Information & Communication Technology  2024-08-24 21:09:40          0         0.0    Unknown    Auckland                           [Sql]    Negotiable\n",
      "7  29830                        Analyst Tester     FNZ Services (NZ) Limited  Full time  Information & Communication Technology  2024-08-24 21:09:41          1         0.0    Unknown  Wellington    [C, Selenium, Sql, Rest Api]    Negotiable\n",
      "8  30043                   Construction Lawyer         Forte Recruitment Ltd  Full time                                   Legal  2024-08-24 21:10:02          0         0.0    Unknown  Wellington                              []      50k-100k\n",
      "9  30198               Legal Executive Estates         Nicholsons Solicitors  Full time                                   Legal  2024-08-24 21:10:16          0         1.0    Unknown    Taranaki              [Microsoft Office]    Negotiable\n"
     ]
    }
   ],
   "source": [
    "df_salary = df_salary.drop(columns=['salary_clean', 'salary_num', 'salary'])\n",
    "print(df_salary.head(10))"
   ]
  },
  {
   "cell_type": "code",
   "execution_count": 19,
   "id": "c911570a",
   "metadata": {},
   "outputs": [],
   "source": [
    "# Convert created_at to datetime and extract time components\n",
    "df_time = df_salary.copy()"
   ]
  },
  {
   "cell_type": "code",
   "execution_count": 20,
   "id": "3ac69646",
   "metadata": {},
   "outputs": [
    {
     "name": "stdout",
     "output_type": "stream",
     "text": [
      "type\n",
      "Full time          74886\n",
      "Part time          10298\n",
      "Contract/Temp       8276\n",
      "Casual/Vacation     2344\n",
      "--------------------\n",
      "accredited\n",
      "0.0    41342\n",
      "NaN    35521\n",
      "1.0    18941\n"
     ]
    }
   ],
   "source": [
    "print(df_time['type'].value_counts(dropna=False).to_string())\n",
    "print('-' * 20)\n",
    "print(df_time['accredited'].value_counts(dropna=False).to_string())"
   ]
  },
  {
   "cell_type": "code",
   "execution_count": 21,
   "id": "738c36b4",
   "metadata": {},
   "outputs": [
    {
     "name": "stdout",
     "output_type": "stream",
     "text": [
      "      id                                 title                       company       type                                industry           created_at  is_active sub_region      region                skills_extracted salary_bucket accredited_label\n",
      "0  21070                 Deafblind Coordinator           Blind Low Vision NZ  Full time        Community Services & Development  2024-08-24 20:55:36          0    Unknown    Auckland  [Microsoft Office, Salesforce]    Negotiable   Not Accredited\n",
      "1  21840  Site supervisor for structural steel  Grayson Engineering 2015 Ltd  Full time                            Construction  2024-08-24 20:56:50          0    Unknown    Auckland                              []    Negotiable   Not Accredited\n",
      "2  22213      Project manager structural steel  Grayson Engineering 2015 Ltd  Full time                            Construction  2024-08-24 20:57:25          0    Unknown    Auckland                       [Outlook]    Negotiable   Not Accredited\n",
      "3  26397          Medical Device Kit Assembler                       Stryker  Full time                    Healthcare & Medical  2024-08-24 21:04:09          0    Unknown    Auckland                              []         Other   Not Accredited\n",
      "4  27671                Holiday Park Assistant       Lakes Edge Holiday Park  Full time                   Hospitality & Tourism  2024-08-24 21:06:13          0    Unknown  Canterbury                              []    Negotiable   Not Accredited\n",
      "5  27946             Venue Manager - Bakehouse      Ayrburn Precinct Limited  Full time                   Hospitality & Tourism  2024-08-24 21:06:41          0    Unknown       Otago                              []    Negotiable       Accredited\n",
      "6  29815                 Senior Analyst Tester     FNZ Services (NZ) Limited  Full time  Information & Communication Technology  2024-08-24 21:09:40          0    Unknown    Auckland                           [Sql]    Negotiable   Not Accredited\n",
      "7  29830                        Analyst Tester     FNZ Services (NZ) Limited  Full time  Information & Communication Technology  2024-08-24 21:09:41          1    Unknown  Wellington    [C, Selenium, Sql, Rest Api]    Negotiable   Not Accredited\n",
      "8  30043                   Construction Lawyer         Forte Recruitment Ltd  Full time                                   Legal  2024-08-24 21:10:02          0    Unknown  Wellington                              []      50k-100k   Not Accredited\n",
      "9  30198               Legal Executive Estates         Nicholsons Solicitors  Full time                                   Legal  2024-08-24 21:10:16          0    Unknown    Taranaki              [Microsoft Office]    Negotiable       Accredited\n"
     ]
    }
   ],
   "source": [
    "# Map accredited field to three categories\n",
    "df_acc = df_time.copy()\n",
    "df_acc['accredited_label'] = df_acc['accredited'].map({1.0: 'Accredited', 0.0: 'Not Accredited'})\n",
    "df_acc['accredited_label'] = df_acc['accredited_label'].fillna('Unknown')\n",
    "df_acc = df_acc.drop(columns=['accredited'])\n",
    "print(df_acc.head(10))"
   ]
  },
  {
   "cell_type": "code",
   "execution_count": 22,
   "id": "36da7352",
   "metadata": {},
   "outputs": [
    {
     "name": "stdout",
     "output_type": "stream",
     "text": [
      "      id                                 title                       company       type                                industry           created_at  is_active sub_region      region                skills_extracted salary_bucket accredited_label\n",
      "0  21070                 Deafblind Coordinator           Blind Low Vision NZ  Full time        Community Services & Development  2024-08-24 20:55:36          0    Unknown    Auckland  [Microsoft Office, Salesforce]    Negotiable   Not Accredited\n",
      "1  21840  Site supervisor for structural steel  Grayson Engineering 2015 Ltd  Full time                            Construction  2024-08-24 20:56:50          0    Unknown    Auckland                              []    Negotiable   Not Accredited\n",
      "2  22213      Project manager structural steel  Grayson Engineering 2015 Ltd  Full time                            Construction  2024-08-24 20:57:25          0    Unknown    Auckland                       [Outlook]    Negotiable   Not Accredited\n",
      "3  26397          Medical Device Kit Assembler                       Stryker  Full time                    Healthcare & Medical  2024-08-24 21:04:09          0    Unknown    Auckland                              []         Other   Not Accredited\n",
      "4  27671                Holiday Park Assistant       Lakes Edge Holiday Park  Full time                   Hospitality & Tourism  2024-08-24 21:06:13          0    Unknown  Canterbury                              []    Negotiable   Not Accredited\n",
      "5  27946             Venue Manager - Bakehouse      Ayrburn Precinct Limited  Full time                   Hospitality & Tourism  2024-08-24 21:06:41          0    Unknown       Otago                              []    Negotiable       Accredited\n",
      "6  29815                 Senior Analyst Tester     FNZ Services (NZ) Limited  Full time  Information & Communication Technology  2024-08-24 21:09:40          0    Unknown    Auckland                           [Sql]    Negotiable   Not Accredited\n",
      "7  29830                        Analyst Tester     FNZ Services (NZ) Limited  Full time  Information & Communication Technology  2024-08-24 21:09:41          1    Unknown  Wellington    [C, Selenium, Sql, Rest Api]    Negotiable   Not Accredited\n",
      "8  30043                   Construction Lawyer         Forte Recruitment Ltd  Full time                                   Legal  2024-08-24 21:10:02          0    Unknown  Wellington                              []      50k-100k   Not Accredited\n",
      "9  30198               Legal Executive Estates         Nicholsons Solicitors  Full time                                   Legal  2024-08-24 21:10:16          0    Unknown    Taranaki              [Microsoft Office]    Negotiable       Accredited\n"
     ]
    }
   ],
   "source": [
    "cleaned_df = df_acc.copy()\n",
    "print(cleaned_df.head(10))"
   ]
  },
  {
   "cell_type": "code",
   "execution_count": null,
   "id": "e31b3a7f",
   "metadata": {},
   "outputs": [],
   "source": [
    "# Save the cleaned DataFrame to a new CSV file\n",
    "cleaned_df.to_csv(\"cleaned_df.csv\", index=False)"
   ]
  }
 ],
 "metadata": {
  "kernelspec": {
   "display_name": "job_env",
   "language": "python",
   "name": "python3"
  },
  "language_info": {
   "codemirror_mode": {
    "name": "ipython",
    "version": 3
   },
   "file_extension": ".py",
   "mimetype": "text/x-python",
   "name": "python",
   "nbconvert_exporter": "python",
   "pygments_lexer": "ipython3",
   "version": "3.10.18"
  }
 },
 "nbformat": 4,
 "nbformat_minor": 5
}
