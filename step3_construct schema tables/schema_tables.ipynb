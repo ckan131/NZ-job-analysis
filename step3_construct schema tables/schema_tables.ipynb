{
 "cells": [
  {
   "cell_type": "markdown",
   "id": "5267ef23",
   "metadata": {},
   "source": [
    "# Table for constructing a star schema\n"
   ]
  },
  {
   "cell_type": "code",
   "execution_count": 47,
   "id": "124610fd",
   "metadata": {},
   "outputs": [],
   "source": [
    "import pandas as pd\n",
    "import numpy as np\n",
    "import ast\n",
    "\n",
    "pd.set_option('display.max_columns', None)\n",
    "pd.set_option('display.width', 1000)\n",
    "pd.set_option('display.max_colwidth', None)"
   ]
  },
  {
   "cell_type": "code",
   "execution_count": 48,
   "id": "7bbd7971",
   "metadata": {},
   "outputs": [
    {
     "name": "stdout",
     "output_type": "stream",
     "text": [
      "      id                                 title                       company       type                                industry           created_at  is_active sub_region      region                      skills_extracted salary_bucket accredited_label\n",
      "0  21070                 Deafblind Coordinator           Blind Low Vision NZ  Full time        Community Services & Development  2024-08-24 20:55:36          0    Unknown    Auckland    ['Microsoft Office', 'Salesforce']    Negotiable   Not Accredited\n",
      "1  21840  Site supervisor for structural steel  Grayson Engineering 2015 Ltd  Full time                            Construction  2024-08-24 20:56:50          0    Unknown    Auckland                                    []    Negotiable   Not Accredited\n",
      "2  22213      Project manager structural steel  Grayson Engineering 2015 Ltd  Full time                            Construction  2024-08-24 20:57:25          0    Unknown    Auckland                           ['Outlook']    Negotiable   Not Accredited\n",
      "3  26397          Medical Device Kit Assembler                       Stryker  Full time                    Healthcare & Medical  2024-08-24 21:04:09          0    Unknown    Auckland                                    []         Other   Not Accredited\n",
      "4  27671                Holiday Park Assistant       Lakes Edge Holiday Park  Full time                   Hospitality & Tourism  2024-08-24 21:06:13          0    Unknown  Canterbury                                    []    Negotiable   Not Accredited\n",
      "5  27946             Venue Manager - Bakehouse      Ayrburn Precinct Limited  Full time                   Hospitality & Tourism  2024-08-24 21:06:41          0    Unknown       Otago                                    []    Negotiable       Accredited\n",
      "6  29815                 Senior Analyst Tester     FNZ Services (NZ) Limited  Full time  Information & Communication Technology  2024-08-24 21:09:40          0    Unknown    Auckland                               ['SQL']    Negotiable   Not Accredited\n",
      "7  29830                        Analyst Tester     FNZ Services (NZ) Limited  Full time  Information & Communication Technology  2024-08-24 21:09:41          1    Unknown  Wellington  ['SQL', 'Selenium', 'C', 'Rest API']    Negotiable   Not Accredited\n",
      "8  30043                   Construction Lawyer         Forte Recruitment Ltd  Full time                                   Legal  2024-08-24 21:10:02          0    Unknown  Wellington                                    []      50k-100k   Not Accredited\n",
      "9  30198               Legal Executive Estates         Nicholsons Solicitors  Full time                                   Legal  2024-08-24 21:10:16          0    Unknown    Taranaki                  ['Microsoft office']    Negotiable       Accredited\n"
     ]
    }
   ],
   "source": [
    "df = pd.read_csv(\"../step2_data cleaning and preprocessing/cleaned_df.csv\")\n",
    "print(df.head(10))"
   ]
  },
  {
   "cell_type": "markdown",
   "id": "043d16d1",
   "metadata": {},
   "source": [
    "## Dimension Tables"
   ]
  },
  {
   "cell_type": "markdown",
   "id": "c18a7abb",
   "metadata": {},
   "source": [
    "### 1. dim_skills & fact_job_skills(helper fact)"
   ]
  },
  {
   "cell_type": "markdown",
   "id": "1d907f4b",
   "metadata": {},
   "source": [
    "#### - dim_skills"
   ]
  },
  {
   "cell_type": "code",
   "execution_count": 49,
   "id": "a7686a81",
   "metadata": {},
   "outputs": [
    {
     "name": "stdout",
     "output_type": "stream",
     "text": [
      "    skill_id    skill_name\n",
      "0          1       Airflow\n",
      "1          2       Angular\n",
      "2          3  Apache Spark\n",
      "3          4           Aws\n",
      "4          5         Azure\n",
      "5          6      Bigquery\n",
      "6          7     Bootstrap\n",
      "7          8             C\n",
      "8          9           C++\n",
      "9         10          Chai\n",
      "10        11    Confluence\n",
      "11        12           Css\n",
      "12        13       Cypress\n",
      "13        14    Databricks\n",
      "14        15        Docker\n",
      "15        16  Dynamics 365\n",
      "16        17       Eclipse\n",
      "17        18         Excel\n",
      "18        19      Firebase\n",
      "19        20           Gcp\n",
      "20        21           Git\n",
      "21        22        Github\n",
      "22        23  Google Cloud\n",
      "23        24       Graphql\n",
      "24        25          Html\n",
      "25        26   Informatica\n",
      "26        27      Intellij\n",
      "27        28          Java\n",
      "28        29    Javascript\n",
      "29        30       Jenkins\n"
     ]
    }
   ],
   "source": [
    "df[\"skills_extracted\"] = df[\"skills_extracted\"].apply(lambda x: ast.literal_eval(x) if isinstance(x, str) else [])\n",
    "df[\"skills_extracted\"] = df[\"skills_extracted\"].apply(lambda x: [s.strip().title() for s in x if isinstance(s, str)])\n",
    "\n",
    "all_skills = sorted(set(skill for sublist in df[\"skills_extracted\"] for skill in sublist if skill))\n",
    "dim_skills = pd.DataFrame({\n",
    "    \"skill_id\": range(1, len(all_skills) + 1),\n",
    "    \"skill_name\": all_skills\n",
    "})\n",
    "print(dim_skills.head(30))\n"
   ]
  },
  {
   "cell_type": "code",
   "execution_count": 50,
   "id": "b147d2b6",
   "metadata": {},
   "outputs": [],
   "source": [
    "dim_skills.to_csv(\"tables/dim_skills.csv\", index=False)"
   ]
  },
  {
   "cell_type": "markdown",
   "id": "853d2ae9",
   "metadata": {},
   "source": [
    "#### - fact_job_skills"
   ]
  },
  {
   "cell_type": "code",
   "execution_count": 51,
   "id": "0073b156",
   "metadata": {},
   "outputs": [
    {
     "name": "stdout",
     "output_type": "stream",
     "text": [
      "        id  skill_id\n",
      "0    21070        38\n",
      "1    21070        62\n",
      "2    22213        46\n",
      "3    29815        70\n",
      "4    29830        70\n",
      "5    29830        67\n",
      "6    29830         8\n",
      "7    29830        60\n",
      "8    30198        38\n",
      "9    36232        18\n",
      "10   63827        38\n",
      "11   65498        18\n",
      "12   65839        30\n",
      "13   65839        34\n",
      "14   65839        41\n",
      "15   65839        61\n",
      "16   65839        50\n",
      "17   65839        15\n",
      "18   65839        54\n",
      "19   65839        21\n",
      "20   65839        70\n",
      "21   65839        36\n",
      "22   65920        29\n",
      "23   65920         8\n",
      "24   65935        29\n",
      "25   65935         8\n",
      "26   66007        29\n",
      "27   66007         8\n",
      "28   66027        29\n",
      "29   66027         8\n",
      "30   66780        70\n",
      "31   66784        70\n",
      "32   66784        67\n",
      "33   66784         8\n",
      "34   66784        60\n",
      "35  104471         5\n",
      "36  137457        18\n",
      "37  138230        38\n",
      "38  138230        18\n",
      "39  138230        46\n"
     ]
    }
   ],
   "source": [
    "bridge_records = []\n",
    "for idx, row in df.iterrows():\n",
    "    for skill in row[\"skills_extracted\"]:\n",
    "        skill_id = dim_skills.loc[dim_skills[\"skill_name\"] == skill, \"skill_id\"].values[0]\n",
    "        bridge_records.append({\n",
    "            \"id\": row[\"id\"],\n",
    "            \"skill_id\": skill_id\n",
    "        })\n",
    "\n",
    "fact_job_skills = pd.DataFrame(bridge_records)\n",
    "print(fact_job_skills.head(40))"
   ]
  },
  {
   "cell_type": "code",
   "execution_count": 52,
   "id": "da69b418",
   "metadata": {},
   "outputs": [],
   "source": [
    "dim_skills.to_csv('tables/fact_job_skills.csv', index=False)"
   ]
  },
  {
   "cell_type": "markdown",
   "id": "3bd22926",
   "metadata": {},
   "source": [
    "### 2. dim_locations"
   ]
  },
  {
   "cell_type": "code",
   "execution_count": 53,
   "id": "a2b80ad3",
   "metadata": {},
   "outputs": [
    {
     "name": "stdout",
     "output_type": "stream",
     "text": [
      "    location_id    sub_region         region\n",
      "0             1       Unknown       Auckland\n",
      "1             2       Unknown     Canterbury\n",
      "2             3       Unknown          Otago\n",
      "3             4       Unknown     Wellington\n",
      "4             5       Unknown       Taranaki\n",
      "5             6       Unknown       Manawatu\n",
      "6             7       Unknown        Waikato\n",
      "7             8       Unknown      Northland\n",
      "8             9       Unknown  Bay of Plenty\n",
      "9            10       Unknown      Southland\n",
      "10           11       Unknown       Gisborne\n",
      "11           12       Unknown     Hawkes Bay\n",
      "12           13       Unknown         Tasman\n",
      "13           14       Unknown     West Coast\n",
      "14           15       Unknown    Marlborough\n",
      "15           16        Hornby     Canterbury\n",
      "16           17      Onehunga       Auckland\n",
      "17           18       Porirua     Wellington\n",
      "18           19  Auckland CBD       Auckland\n",
      "19           20  Christchurch     Canterbury\n"
     ]
    }
   ],
   "source": [
    "dim_locations = df[['sub_region', 'region']].drop_duplicates().reset_index(drop=True)\n",
    "dim_locations['location_id'] = np.arange(1, len(dim_locations) + 1)\n",
    "cols = ['location_id'] + [col for col in dim_locations.columns if col != 'location_id']\n",
    "dim_locations = dim_locations[cols]\n",
    "print(dim_locations.head(20))"
   ]
  },
  {
   "cell_type": "code",
   "execution_count": 54,
   "id": "d8f95c5e",
   "metadata": {},
   "outputs": [],
   "source": [
    "dim_locations.to_csv('tables/dim_locations.csv', index=False)"
   ]
  },
  {
   "cell_type": "markdown",
   "id": "9dbbeee1",
   "metadata": {},
   "source": [
    "### 3. dim_titles"
   ]
  },
  {
   "cell_type": "code",
   "execution_count": 55,
   "id": "bfb3cc89",
   "metadata": {},
   "outputs": [
    {
     "name": "stdout",
     "output_type": "stream",
     "text": [
      "   title_id                                 title\n",
      "0         1                 Deafblind Coordinator\n",
      "1         2  Site supervisor for structural steel\n",
      "2         3      Project manager structural steel\n",
      "3         4          Medical Device Kit Assembler\n",
      "4         5                Holiday Park Assistant\n",
      "5         6             Venue Manager - Bakehouse\n",
      "6         7                 Senior Analyst Tester\n",
      "7         8                        Analyst Tester\n",
      "8         9                   Construction Lawyer\n",
      "9        10               Legal Executive Estates\n"
     ]
    }
   ],
   "source": [
    "dim_titles = df[['title']].drop_duplicates().reset_index(drop=True)\n",
    "dim_titles['title_id'] = np.arange(1, len(dim_titles) + 1)\n",
    "cols = ['title_id'] + [col for col in dim_titles.columns if col != 'title_id']\n",
    "dim_titles = dim_titles[cols]\n",
    "print(dim_titles.head(10))"
   ]
  },
  {
   "cell_type": "code",
   "execution_count": 56,
   "id": "cec90d01",
   "metadata": {},
   "outputs": [],
   "source": [
    "dim_titles.to_csv('tables/dim_titles.csv', index=False)"
   ]
  },
  {
   "cell_type": "markdown",
   "id": "eaf061d5",
   "metadata": {},
   "source": [
    "### 4. dim_companies"
   ]
  },
  {
   "cell_type": "code",
   "execution_count": 57,
   "id": "45bab1d1",
   "metadata": {},
   "outputs": [
    {
     "name": "stdout",
     "output_type": "stream",
     "text": [
      "   company_id                       company\n",
      "0           1           Blind Low Vision NZ\n",
      "1           2  Grayson Engineering 2015 Ltd\n",
      "2           3                       Stryker\n",
      "3           4       Lakes Edge Holiday Park\n",
      "4           5      Ayrburn Precinct Limited\n",
      "5           6     FNZ Services (NZ) Limited\n",
      "6           7         Forte Recruitment Ltd\n",
      "7           8         Nicholsons Solicitors\n",
      "8           9            Star Personnel Ltd\n",
      "9          10         McAlpine Hussmann Ltd\n"
     ]
    }
   ],
   "source": [
    "dim_companies = df[['company']].drop_duplicates().reset_index(drop=True)\n",
    "dim_companies['company_id'] = np.arange(1, len(dim_companies) + 1)\n",
    "cols = ['company_id'] + [col for col in dim_companies.columns if col != 'company_id']\n",
    "dim_companies = dim_companies[cols]\n",
    "print(dim_companies.head(10))"
   ]
  },
  {
   "cell_type": "code",
   "execution_count": 58,
   "id": "b46c5dc5",
   "metadata": {},
   "outputs": [],
   "source": [
    "dim_companies.to_csv('tables/dim_companies.csv', index=False)"
   ]
  },
  {
   "cell_type": "markdown",
   "id": "58cbca05",
   "metadata": {},
   "source": [
    "### 5. dim_job_type"
   ]
  },
  {
   "cell_type": "code",
   "execution_count": 59,
   "id": "b63f912d",
   "metadata": {},
   "outputs": [
    {
     "name": "stdout",
     "output_type": "stream",
     "text": [
      "   job_type_id             type\n",
      "0            1        Full time\n",
      "1            2        Part time\n",
      "2            3    Contract/Temp\n",
      "3            4  Casual/Vacation\n"
     ]
    }
   ],
   "source": [
    "dim_job_type = df[['type']].drop_duplicates().reset_index(drop=True)\n",
    "dim_job_type['job_type_id'] = np.arange(1, len(dim_job_type) + 1)\n",
    "cols = ['job_type_id'] + [col for col in dim_job_type.columns if col != 'job_type_id']\n",
    "dim_job_type = dim_job_type[cols]\n",
    "print(dim_job_type.head(10))"
   ]
  },
  {
   "cell_type": "code",
   "execution_count": 60,
   "id": "7ab6bc59",
   "metadata": {},
   "outputs": [],
   "source": [
    "dim_job_type.to_csv('tables/dim_job_type.csv', index=False)"
   ]
  },
  {
   "cell_type": "markdown",
   "id": "dc928080",
   "metadata": {},
   "source": [
    "### 6. dim_industries"
   ]
  },
  {
   "cell_type": "code",
   "execution_count": 61,
   "id": "ddd2280c",
   "metadata": {},
   "outputs": [
    {
     "name": "stdout",
     "output_type": "stream",
     "text": [
      "   industry_id                                industry\n",
      "0            1        Community Services & Development\n",
      "1            2                            Construction\n",
      "2            3                    Healthcare & Medical\n",
      "3            4                   Hospitality & Tourism\n",
      "4            5  Information & Communication Technology\n",
      "5            6                                   Legal\n",
      "6            7    Manufacturing, Transport & Logistics\n",
      "7            8                       Trades & Services\n",
      "8            9           Human Resources & Recruitment\n",
      "9           10            Banking & Financial Services\n"
     ]
    }
   ],
   "source": [
    "dim_industries = df[['industry']].drop_duplicates().reset_index(drop=True)\n",
    "dim_industries['industry_id'] = np.arange(1, len(dim_industries) + 1)\n",
    "cols = ['industry_id'] + [col for col in dim_industries.columns if col != 'industry_id']\n",
    "dim_industries = dim_industries[cols]\n",
    "print(dim_industries.head(10))"
   ]
  },
  {
   "cell_type": "code",
   "execution_count": 62,
   "id": "39689492",
   "metadata": {},
   "outputs": [],
   "source": [
    "dim_industries.to_csv('tables/dim_industries.csv', index=False)"
   ]
  },
  {
   "cell_type": "markdown",
   "id": "55514ec0",
   "metadata": {},
   "source": [
    "### 7. dim_datetime"
   ]
  },
  {
   "cell_type": "code",
   "execution_count": 63,
   "id": "c9a968ce",
   "metadata": {},
   "outputs": [
    {
     "name": "stdout",
     "output_type": "stream",
     "text": [
      "   datetime_id       date  year  quarter  month  week  day  weekday\n",
      "0     20240824 2024-08-24  2024        3      8    34   24        6\n",
      "1     20240825 2024-08-25  2024        3      8    34   25        7\n",
      "2     20240826 2024-08-26  2024        3      8    35   26        1\n",
      "3     20240827 2024-08-27  2024        3      8    35   27        2\n",
      "4     20240828 2024-08-28  2024        3      8    35   28        3\n",
      "5     20240829 2024-08-29  2024        3      8    35   29        4\n",
      "6     20240830 2024-08-30  2024        3      8    35   30        5\n",
      "7     20240831 2024-08-31  2024        3      8    35   31        6\n",
      "8     20240901 2024-09-01  2024        3      9    35    1        7\n",
      "9     20240902 2024-09-02  2024        3      9    36    2        1\n"
     ]
    }
   ],
   "source": [
    "df['created_at'] = pd.to_datetime(df['created_at'], errors='coerce')\n",
    "\n",
    "# 生成日期范围\n",
    "start_date = df['created_at'].min().normalize()\n",
    "end_date = pd.Timestamp.today().normalize()\n",
    "date_range = pd.date_range(start=start_date, end=end_date, freq='D')\n",
    "\n",
    "# 构建维表\n",
    "dim_datetime = pd.DataFrame({'date': date_range})\n",
    "dim_datetime['year'] = dim_datetime['date'].dt.year\n",
    "dim_datetime['month'] = dim_datetime['date'].dt.month\n",
    "dim_datetime['day'] = dim_datetime['date'].dt.day\n",
    "dim_datetime['quarter'] = dim_datetime['date'].dt.quarter\n",
    "dim_datetime['week'] = dim_datetime['date'].dt.isocalendar().week\n",
    "dim_datetime['weekday'] = dim_datetime['date'].dt.weekday + 1  # 1=Monday\n",
    "dim_datetime['datetime_id'] = dim_datetime['date'].dt.strftime('%Y%m%d').astype(int)\n",
    "\n",
    "# 调整列顺序\n",
    "cols = ['datetime_id', 'date', 'year', 'quarter', 'month', 'week', 'day', 'weekday']\n",
    "dim_datetime = dim_datetime[cols]\n",
    "\n",
    "print(dim_datetime.head(10))"
   ]
  },
  {
   "cell_type": "code",
   "execution_count": 64,
   "id": "f4f9de00",
   "metadata": {},
   "outputs": [],
   "source": [
    "dim_datetime.to_csv('tables/dim_datetime.csv', index=False)"
   ]
  },
  {
   "cell_type": "markdown",
   "id": "2289022b",
   "metadata": {},
   "source": [
    "### 8. dim_salary"
   ]
  },
  {
   "cell_type": "code",
   "execution_count": 65,
   "id": "201c9c3c",
   "metadata": {},
   "outputs": [
    {
     "name": "stdout",
     "output_type": "stream",
     "text": [
      "   salary_id salary_bucket\n",
      "0          1    Negotiable\n",
      "1          2         Other\n",
      "2          3      50k-100k\n",
      "3          4         100k+\n",
      "4          5         0-50k\n",
      "5          6   Competitive\n"
     ]
    }
   ],
   "source": [
    "dim_salary = df[['salary_bucket']].drop_duplicates().reset_index(drop=True)\n",
    "dim_salary['salary_id'] = np.arange(1, len(dim_salary) + 1)\n",
    "cols = ['salary_id'] + [col for col in dim_salary.columns if col != 'salary_id']\n",
    "dim_salary = dim_salary[cols]\n",
    "print(dim_salary.head(10))"
   ]
  },
  {
   "cell_type": "code",
   "execution_count": 66,
   "id": "fe28799e",
   "metadata": {},
   "outputs": [],
   "source": [
    "dim_salary.to_csv('tables/dim_salary.csv', index=False)"
   ]
  },
  {
   "cell_type": "markdown",
   "id": "0518fcfe",
   "metadata": {},
   "source": [
    "### 9. dim_accredited"
   ]
  },
  {
   "cell_type": "code",
   "execution_count": 67,
   "id": "90fcd222",
   "metadata": {},
   "outputs": [
    {
     "name": "stdout",
     "output_type": "stream",
     "text": [
      "   accredited_id accredited_label\n",
      "0              1   Not Accredited\n",
      "1              2       Accredited\n",
      "2              3          Unknown\n"
     ]
    }
   ],
   "source": [
    "dim_accredited = df[['accredited_label']].drop_duplicates().reset_index(drop=True)\n",
    "dim_accredited['accredited_id'] = np.arange(1, len(dim_accredited) + 1)\n",
    "cols = ['accredited_id'] + [col for col in dim_accredited.columns if col != 'accredited_id']\n",
    "dim_accredited = dim_accredited[cols]\n",
    "print(dim_accredited.head(10))"
   ]
  },
  {
   "cell_type": "code",
   "execution_count": 68,
   "id": "94bed301",
   "metadata": {},
   "outputs": [],
   "source": [
    "dim_accredited.to_csv('tables/dim_accredited.csv', index=False)"
   ]
  },
  {
   "cell_type": "markdown",
   "id": "898c3d1d",
   "metadata": {},
   "source": [
    "### 10. dim_is_active"
   ]
  },
  {
   "cell_type": "code",
   "execution_count": 69,
   "id": "2c505932",
   "metadata": {},
   "outputs": [
    {
     "name": "stdout",
     "output_type": "stream",
     "text": [
      "   active_id   is_active\n",
      "0          0  Not Active\n",
      "1          1      Active\n"
     ]
    }
   ],
   "source": [
    "dim_is_active = pd.DataFrame({\n",
    "    'active_id': [0, 1],\n",
    "    'is_active': ['Not Active', 'Active']\n",
    "})\n",
    "print(dim_is_active.head())\n"
   ]
  },
  {
   "cell_type": "code",
   "execution_count": 70,
   "id": "c3a282cc",
   "metadata": {},
   "outputs": [
    {
     "name": "stdout",
     "output_type": "stream",
     "text": [
      "      id                                 title                       company       type                                industry          created_at  active_id sub_region      region                skills_extracted salary_bucket accredited_label\n",
      "0  21070                 Deafblind Coordinator           Blind Low Vision NZ  Full time        Community Services & Development 2024-08-24 20:55:36          0    Unknown    Auckland  [Microsoft Office, Salesforce]    Negotiable   Not Accredited\n",
      "1  21840  Site supervisor for structural steel  Grayson Engineering 2015 Ltd  Full time                            Construction 2024-08-24 20:56:50          0    Unknown    Auckland                              []    Negotiable   Not Accredited\n",
      "2  22213      Project manager structural steel  Grayson Engineering 2015 Ltd  Full time                            Construction 2024-08-24 20:57:25          0    Unknown    Auckland                       [Outlook]    Negotiable   Not Accredited\n",
      "3  26397          Medical Device Kit Assembler                       Stryker  Full time                    Healthcare & Medical 2024-08-24 21:04:09          0    Unknown    Auckland                              []         Other   Not Accredited\n",
      "4  27671                Holiday Park Assistant       Lakes Edge Holiday Park  Full time                   Hospitality & Tourism 2024-08-24 21:06:13          0    Unknown  Canterbury                              []    Negotiable   Not Accredited\n",
      "5  27946             Venue Manager - Bakehouse      Ayrburn Precinct Limited  Full time                   Hospitality & Tourism 2024-08-24 21:06:41          0    Unknown       Otago                              []    Negotiable       Accredited\n",
      "6  29815                 Senior Analyst Tester     FNZ Services (NZ) Limited  Full time  Information & Communication Technology 2024-08-24 21:09:40          0    Unknown    Auckland                           [Sql]    Negotiable   Not Accredited\n",
      "7  29830                        Analyst Tester     FNZ Services (NZ) Limited  Full time  Information & Communication Technology 2024-08-24 21:09:41          1    Unknown  Wellington    [Sql, Selenium, C, Rest Api]    Negotiable   Not Accredited\n",
      "8  30043                   Construction Lawyer         Forte Recruitment Ltd  Full time                                   Legal 2024-08-24 21:10:02          0    Unknown  Wellington                              []      50k-100k   Not Accredited\n",
      "9  30198               Legal Executive Estates         Nicholsons Solicitors  Full time                                   Legal 2024-08-24 21:10:16          0    Unknown    Taranaki              [Microsoft Office]    Negotiable       Accredited\n"
     ]
    }
   ],
   "source": [
    "df.rename(columns={'is_active': 'active_id'}, inplace=True)\n",
    "print(df.head(10))"
   ]
  },
  {
   "cell_type": "code",
   "execution_count": 71,
   "id": "c83b6b20",
   "metadata": {},
   "outputs": [],
   "source": [
    "dim_is_active.to_csv('tables/dim_is_active.csv', index=False)"
   ]
  },
  {
   "cell_type": "markdown",
   "id": "89b6dfc9",
   "metadata": {},
   "source": [
    "## Fact table"
   ]
  },
  {
   "cell_type": "markdown",
   "id": "7c8d2ae1",
   "metadata": {},
   "source": [
    "### fact_jobs"
   ]
  },
  {
   "cell_type": "code",
   "execution_count": 75,
   "id": "bcfd25b1",
   "metadata": {},
   "outputs": [
    {
     "name": "stdout",
     "output_type": "stream",
     "text": [
      "       id  title_id  company_id  location_id  job_type_id  industry_id  salary_id  accredited_id  datetime_id  active_id\n",
      "0   21070         1           1            1            1            1          1              1     20240824          0\n",
      "1   21840         2           2            1            1            2          1              1     20240824          0\n",
      "2   22213         3           2            1            1            2          1              1     20240824          0\n",
      "3   26397         4           3            1            1            3          2              1     20240824          0\n",
      "4   27671         5           4            2            1            4          1              1     20240824          0\n",
      "5   27946         6           5            3            1            4          1              2     20240824          0\n",
      "6   29815         7           6            1            1            5          1              1     20240824          0\n",
      "7   29830         8           6            4            1            5          1              1     20240824          1\n",
      "8   30043         9           7            4            1            6          3              1     20240824          0\n",
      "9   30198        10           8            5            1            6          1              2     20240824          0\n",
      "10  30687        11           9            1            1            7          3              1     20240824          0\n",
      "11  35025        12          10            4            1            8          1              2     20240824          0\n",
      "12  36232        13          11            6            1            8          2              1     20240824          0\n",
      "13  36525        14          12            7            1            8          1              1     20240824          0\n",
      "14  59316        15          13            2            1            2          4              1     20240828          0\n",
      "15  63827        16          14            1            1            3          1              1     20240828          0\n",
      "16  65498        17          15            1            2            9          1              1     20240828          0\n",
      "17  65839        18          16            4            1            5          1              1     20240828          0\n",
      "18  65920        19           6            1            1            5          1              1     20240828          0\n",
      "19  65935        20           6            1            1            5          1              1     20240828          0\n"
     ]
    }
   ],
   "source": [
    "df['created_at'] = pd.to_datetime(df['created_at'], errors='coerce')\n",
    "df['datetime_id'] = df['created_at'].dt.strftime('%Y%m%d').astype(int)\n",
    "\n",
    "# 合并各维度ID\n",
    "fact_jobs = df.merge(dim_titles, on='title', how='left') \\\n",
    "    .merge(dim_companies, on='company', how='left') \\\n",
    "    .merge(dim_locations, on=['sub_region', 'region'], how='left') \\\n",
    "    .merge(dim_job_type, on='type', how='left') \\\n",
    "    .merge(dim_industries, on='industry', how='left') \\\n",
    "    .merge(dim_salary, on='salary_bucket', how='left') \\\n",
    "    .merge(dim_accredited, on='accredited_label', how='left') \\\n",
    "    .merge(dim_datetime[['datetime_id']], on='datetime_id', how='left')\n",
    "\n",
    "\n",
    "\n",
    "# 只保留 fact 表需要的 id 字段和指标字段\n",
    "fact_jobs = fact_jobs[[\n",
    "    'id','title_id', 'company_id', 'location_id', 'job_type_id', 'industry_id',\n",
    "    'salary_id', 'accredited_id', 'datetime_id', 'active_id'\n",
    "    \n",
    "]]\n",
    "\n",
    "print(fact_jobs.head(20))"
   ]
  },
  {
   "cell_type": "code",
   "execution_count": 76,
   "id": "9b4abc47",
   "metadata": {},
   "outputs": [],
   "source": [
    "fact_jobs.to_csv('tables/fact_jobs.csv', index=False)"
   ]
  }
 ],
 "metadata": {
  "kernelspec": {
   "display_name": "job_env",
   "language": "python",
   "name": "python3"
  },
  "language_info": {
   "codemirror_mode": {
    "name": "ipython",
    "version": 3
   },
   "file_extension": ".py",
   "mimetype": "text/x-python",
   "name": "python",
   "nbconvert_exporter": "python",
   "pygments_lexer": "ipython3",
   "version": "3.10.18"
  }
 },
 "nbformat": 4,
 "nbformat_minor": 5
}
